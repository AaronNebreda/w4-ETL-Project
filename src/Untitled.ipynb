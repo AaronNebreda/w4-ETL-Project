{
 "cells": [
  {
   "cell_type": "code",
   "execution_count": 1,
   "id": "0ca48c7b",
   "metadata": {},
   "outputs": [],
   "source": [
    "import json\n",
    "import requests"
   ]
  },
  {
   "cell_type": "code",
   "execution_count": 48,
   "id": "8445510e",
   "metadata": {},
   "outputs": [
    {
     "name": "stdout",
     "output_type": "stream",
     "text": [
      "Collecting marvel\n",
      "  Downloading marvel-0.1.0-py2.py3-none-any.whl (8.0 kB)\n",
      "Collecting requests==2.20.0\n",
      "  Downloading requests-2.20.0-py2.py3-none-any.whl (60 kB)\n",
      "Collecting urllib3<1.25,>=1.21.1\n",
      "  Downloading urllib3-1.24.3-py2.py3-none-any.whl (118 kB)\n",
      "Requirement already satisfied: certifi>=2017.4.17 in c:\\users\\aaron\\anaconda3\\lib\\site-packages (from requests==2.20.0->marvel) (2021.10.8)\n",
      "Collecting idna<2.8,>=2.5\n",
      "  Downloading idna-2.7-py2.py3-none-any.whl (58 kB)\n",
      "Collecting chardet<3.1.0,>=3.0.2\n",
      "Note: you may need to restart the kernel to use updated packages.\n"
     ]
    },
    {
     "name": "stderr",
     "output_type": "stream",
     "text": [
      "ERROR: pip's dependency resolver does not currently take into account all the packages that are installed. This behaviour is the source of the following dependency conflicts.\n",
      "spyder 5.1.5 requires pyqt5<5.13, which is not installed.\n",
      "spyder 5.1.5 requires pyqtwebengine<5.13, which is not installed.\n",
      "conda-repo-cli 1.0.4 requires pathlib, which is not installed.\n",
      "anaconda-project 0.10.2 requires ruamel-yaml, which is not installed.\n",
      "selenium 4.6.0 requires urllib3[socks]~=1.26, but you have urllib3 1.24.3 which is incompatible.\n",
      "cookiecutter 1.7.3 requires requests>=2.23.0, but you have requests 2.20.0 which is incompatible.\n",
      "conda 22.9.0 requires requests>=2.20.1, but you have requests 2.20.0 which is incompatible.\n",
      "botocore 1.24.32 requires urllib3<1.27,>=1.25.4, but you have urllib3 1.24.3 which is incompatible.\n",
      "anyio 3.5.0 requires idna>=2.8, but you have idna 2.7 which is incompatible.\n"
     ]
    },
    {
     "name": "stdout",
     "output_type": "stream",
     "text": [
      "  Downloading chardet-3.0.4-py2.py3-none-any.whl (133 kB)\n",
      "Installing collected packages: urllib3, idna, chardet, requests, marvel\n",
      "  Attempting uninstall: urllib3\n",
      "    Found existing installation: urllib3 1.26.9\n",
      "    Uninstalling urllib3-1.26.9:\n",
      "      Successfully uninstalled urllib3-1.26.9\n",
      "  Attempting uninstall: idna\n",
      "    Found existing installation: idna 3.3\n",
      "    Uninstalling idna-3.3:\n",
      "      Successfully uninstalled idna-3.3\n",
      "  Attempting uninstall: chardet\n",
      "    Found existing installation: chardet 4.0.0\n",
      "    Uninstalling chardet-4.0.0:\n",
      "      Successfully uninstalled chardet-4.0.0\n",
      "  Attempting uninstall: requests\n",
      "    Found existing installation: requests 2.27.1\n",
      "    Uninstalling requests-2.27.1:\n",
      "      Successfully uninstalled requests-2.27.1\n",
      "Successfully installed chardet-3.0.4 idna-2.7 marvel-0.1.0 requests-2.20.0 urllib3-1.24.3\n"
     ]
    }
   ],
   "source": [
    "%pip install marvel"
   ]
  },
  {
   "cell_type": "code",
   "execution_count": 2,
   "id": "45d3961f",
   "metadata": {},
   "outputs": [],
   "source": [
    "url='https://developer.marvel.com/'\n",
    "\n",
    "#header={'Authorization': 'token ' + contras}\n",
    "\n",
    "res=requests.get(url)"
   ]
  },
  {
   "cell_type": "code",
   "execution_count": 3,
   "id": "fddf5fbe",
   "metadata": {},
   "outputs": [
    {
     "data": {
      "text/plain": [
       "<Response [200]>"
      ]
     },
     "execution_count": 3,
     "metadata": {},
     "output_type": "execute_result"
    }
   ],
   "source": [
    "res"
   ]
  },
  {
   "cell_type": "code",
   "execution_count": 14,
   "id": "bcd3cc9d",
   "metadata": {},
   "outputs": [],
   "source": [
    "url='http://developer.marvel.com/v1/public/characters?ts=1&apikey=f1c15480678d2cada97fa7a7ef86e69e&hash=49df307680bbf08584e5a449262fed1c7889e6ec'\n",
    "#header={'Authorization': 'token ' + contras}\n",
    "\n",
    "res=requests.get(url)"
   ]
  },
  {
   "cell_type": "code",
   "execution_count": 15,
   "id": "c8f9e871",
   "metadata": {},
   "outputs": [
    {
     "data": {
      "text/plain": [
       "<Response [200]>"
      ]
     },
     "execution_count": 15,
     "metadata": {},
     "output_type": "execute_result"
    }
   ],
   "source": [
    "res"
   ]
  },
  {
   "cell_type": "code",
   "execution_count": 21,
   "id": "f2d06d2e",
   "metadata": {},
   "outputs": [
    {
     "data": {
      "text/plain": [
       "'<!DOCTYPE html>\\n<!--[if IE 8]> <html class=\"lt-ie9 juggernaut  grid_940\"> <![endif]-->\\n<!--[if gt IE 8]><!--> <html class=\"juggernaut  grid_940\"> <!--<![endif]-->\\n\\n<head>\\n\\n\\n<script type=\"text/javascript\">\\n// <![CDATA[\\n  var URLs = {\\n    \\'login\\':  \\'https://www.marvel.com/signin?referer=http%3A%2F%2Fwww.marvel.com\\',\\n    \\'signup\\': \\'https://www.marvel.com/register?referer=http%3A%2F%2Fwww.marvel.com\\',\\n    \\'comicReader\\': \\'\\',\\n    \\'rpxWidgetUrl\\': \\'http://widget-cdn.rpxnow.com/js/lib/forge.marvel.com/wi'"
      ]
     },
     "execution_count": 21,
     "metadata": {},
     "output_type": "execute_result"
    }
   ],
   "source": [
    "res.text[0:500]"
   ]
  },
  {
   "cell_type": "code",
   "execution_count": 46,
   "id": "99821796",
   "metadata": {},
   "outputs": [],
   "source": [
    "\n",
    "\n",
    "        \n",
    "url='https://gateway.marvel.com:443/v1/public/characters?name=thor&apikey=f1c15480678d2cada97fa7a7ef86e69e&hash=49df307680bbf08584e5a449262fed1c7889e6ec'\n",
    "#header={'Authorization': 'token ' + contras}\n",
    "\n",
    "res=requests.get(url)"
   ]
  },
  {
   "cell_type": "code",
   "execution_count": 47,
   "id": "caa8baf0",
   "metadata": {},
   "outputs": [
    {
     "data": {
      "text/plain": [
       "<Response [409]>"
      ]
     },
     "execution_count": 47,
     "metadata": {},
     "output_type": "execute_result"
    }
   ],
   "source": [
    "res"
   ]
  },
  {
   "cell_type": "code",
   "execution_count": 50,
   "id": "c3b4357b",
   "metadata": {},
   "outputs": [],
   "source": [
    "from marvel import Marvel "
   ]
  },
  {
   "cell_type": "code",
   "execution_count": 51,
   "id": "9c03c28c",
   "metadata": {},
   "outputs": [],
   "source": [
    "m = Marvel('f1c15480678d2cada97fa7a7ef86e69e', '49df307680bbf08584e5a449262fed1c7889e6ec')"
   ]
  },
  {
   "cell_type": "code",
   "execution_count": 53,
   "id": "c7f9f1e4",
   "metadata": {},
   "outputs": [],
   "source": [
    "char = m.characters"
   ]
  },
  {
   "cell_type": "code",
   "execution_count": 67,
   "id": "32610319",
   "metadata": {},
   "outputs": [
    {
     "data": {
      "text/plain": [
       "'Age of Heroes (2010) #2'"
      ]
     },
     "execution_count": 67,
     "metadata": {},
     "output_type": "execute_result"
    }
   ],
   "source": [
    "char.all(name='Thor')['data']['results'][0]['comics']['items'][2]['name']"
   ]
  },
  {
   "cell_type": "code",
   "execution_count": null,
   "id": "70100248",
   "metadata": {},
   "outputs": [],
   "source": []
  }
 ],
 "metadata": {
  "kernelspec": {
   "display_name": "Python 3 (ipykernel)",
   "language": "python",
   "name": "python3"
  },
  "language_info": {
   "codemirror_mode": {
    "name": "ipython",
    "version": 3
   },
   "file_extension": ".py",
   "mimetype": "text/x-python",
   "name": "python",
   "nbconvert_exporter": "python",
   "pygments_lexer": "ipython3",
   "version": "3.9.12"
  }
 },
 "nbformat": 4,
 "nbformat_minor": 5
}
