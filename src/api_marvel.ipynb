{
 "cells": [
  {
   "cell_type": "code",
   "execution_count": 2,
   "id": "11221b8c",
   "metadata": {},
   "outputs": [],
   "source": [
    "import json\n",
    "import requests\n",
    "import pandas as pd"
   ]
  },
  {
   "cell_type": "code",
   "execution_count": 3,
   "id": "7d231d60",
   "metadata": {},
   "outputs": [],
   "source": [
    "## %pip install marvel"
   ]
  },
  {
   "cell_type": "markdown",
   "id": "126e4530",
   "metadata": {},
   "source": [
    "Conexión a a la API de marvel"
   ]
  },
  {
   "cell_type": "code",
   "execution_count": 4,
   "id": "a6f79cda",
   "metadata": {},
   "outputs": [],
   "source": [
    "url='https://developer.marvel.com/'\n",
    "\n",
    "#header={'Authorization': 'token ' + contras}\n",
    "\n",
    "res=requests.get(url)"
   ]
  },
  {
   "cell_type": "code",
   "execution_count": 5,
   "id": "bf0485f7",
   "metadata": {},
   "outputs": [
    {
     "data": {
      "text/plain": [
       "<Response [200]>"
      ]
     },
     "execution_count": 5,
     "metadata": {},
     "output_type": "execute_result"
    }
   ],
   "source": [
    "res"
   ]
  },
  {
   "cell_type": "code",
   "execution_count": 6,
   "id": "71f0af6c",
   "metadata": {},
   "outputs": [],
   "source": [
    "url='http://developer.marvel.com/v1/public/characters?ts=1&apikey=f1c15480678d2cada97fa7a7ef86e69e&hash=49df307680bbf08584e5a449262fed1c7889e6ec'\n",
    "#header={'Authorization': 'token ' + contras}\n",
    "\n",
    "res=requests.get(url)"
   ]
  },
  {
   "cell_type": "code",
   "execution_count": 7,
   "id": "5988c530",
   "metadata": {},
   "outputs": [
    {
     "data": {
      "text/plain": [
       "<Response [200]>"
      ]
     },
     "execution_count": 7,
     "metadata": {},
     "output_type": "execute_result"
    }
   ],
   "source": [
    "res"
   ]
  },
  {
   "cell_type": "code",
   "execution_count": 8,
   "id": "03676604",
   "metadata": {},
   "outputs": [
    {
     "data": {
      "text/plain": [
       "'<!DOCTYPE html>\\n<!--[if IE 8]> <html class=\"lt-ie9 juggernaut  grid_940\"> <![endif]-->\\n<!--[if gt IE 8]><!--> <html class=\"juggernaut  grid_940\"> <!--<![endif]-->\\n\\n<head>\\n\\n\\n<script type=\"text/javascript\">\\n// <![CDATA[\\n  var URLs = {\\n    \\'login\\':  \\'https://www.marvel.com/signin?referer=http%3A%2F%2Fwww.marvel.com\\',\\n    \\'signup\\': \\'https://www.marvel.com/register?referer=http%3A%2F%2Fwww.marvel.com\\',\\n    \\'comicReader\\': \\'\\',\\n    \\'rpxWidgetUrl\\': \\'http://widget-cdn.rpxnow.com/js/lib/forge.marvel.com/wi'"
      ]
     },
     "execution_count": 8,
     "metadata": {},
     "output_type": "execute_result"
    }
   ],
   "source": [
    "res.text[0:500]"
   ]
  },
  {
   "cell_type": "markdown",
   "id": "7a565ca0",
   "metadata": {},
   "source": [
    "Se conecta pero el json no funciona"
   ]
  },
  {
   "cell_type": "code",
   "execution_count": 9,
   "id": "1db3a28e",
   "metadata": {},
   "outputs": [
    {
     "ename": "JSONDecodeError",
     "evalue": "Expecting value: line 1 column 1 (char 0)",
     "output_type": "error",
     "traceback": [
      "\u001b[1;31m---------------------------------------------------------------------------\u001b[0m",
      "\u001b[1;31mJSONDecodeError\u001b[0m                           Traceback (most recent call last)",
      "Input \u001b[1;32mIn [9]\u001b[0m, in \u001b[0;36m<cell line: 1>\u001b[1;34m()\u001b[0m\n\u001b[1;32m----> 1\u001b[0m \u001b[43mres\u001b[49m\u001b[38;5;241;43m.\u001b[39;49m\u001b[43mjson\u001b[49m\u001b[43m(\u001b[49m\u001b[43m)\u001b[49m\n",
      "File \u001b[1;32m~\\anaconda3\\lib\\site-packages\\requests\\models.py:897\u001b[0m, in \u001b[0;36mResponse.json\u001b[1;34m(self, **kwargs)\u001b[0m\n\u001b[0;32m    891\u001b[0m         \u001b[38;5;28;01mexcept\u001b[39;00m \u001b[38;5;167;01mUnicodeDecodeError\u001b[39;00m:\n\u001b[0;32m    892\u001b[0m             \u001b[38;5;66;03m# Wrong UTF codec detected; usually because it's not UTF-8\u001b[39;00m\n\u001b[0;32m    893\u001b[0m             \u001b[38;5;66;03m# but some other 8-bit codec.  This is an RFC violation,\u001b[39;00m\n\u001b[0;32m    894\u001b[0m             \u001b[38;5;66;03m# and the server didn't bother to tell us what codec *was*\u001b[39;00m\n\u001b[0;32m    895\u001b[0m             \u001b[38;5;66;03m# used.\u001b[39;00m\n\u001b[0;32m    896\u001b[0m             \u001b[38;5;28;01mpass\u001b[39;00m\n\u001b[1;32m--> 897\u001b[0m \u001b[38;5;28;01mreturn\u001b[39;00m complexjson\u001b[38;5;241m.\u001b[39mloads(\u001b[38;5;28mself\u001b[39m\u001b[38;5;241m.\u001b[39mtext, \u001b[38;5;241m*\u001b[39m\u001b[38;5;241m*\u001b[39mkwargs)\n",
      "File \u001b[1;32m~\\anaconda3\\lib\\json\\__init__.py:346\u001b[0m, in \u001b[0;36mloads\u001b[1;34m(s, cls, object_hook, parse_float, parse_int, parse_constant, object_pairs_hook, **kw)\u001b[0m\n\u001b[0;32m    341\u001b[0m     s \u001b[38;5;241m=\u001b[39m s\u001b[38;5;241m.\u001b[39mdecode(detect_encoding(s), \u001b[38;5;124m'\u001b[39m\u001b[38;5;124msurrogatepass\u001b[39m\u001b[38;5;124m'\u001b[39m)\n\u001b[0;32m    343\u001b[0m \u001b[38;5;28;01mif\u001b[39;00m (\u001b[38;5;28mcls\u001b[39m \u001b[38;5;129;01mis\u001b[39;00m \u001b[38;5;28;01mNone\u001b[39;00m \u001b[38;5;129;01mand\u001b[39;00m object_hook \u001b[38;5;129;01mis\u001b[39;00m \u001b[38;5;28;01mNone\u001b[39;00m \u001b[38;5;129;01mand\u001b[39;00m\n\u001b[0;32m    344\u001b[0m         parse_int \u001b[38;5;129;01mis\u001b[39;00m \u001b[38;5;28;01mNone\u001b[39;00m \u001b[38;5;129;01mand\u001b[39;00m parse_float \u001b[38;5;129;01mis\u001b[39;00m \u001b[38;5;28;01mNone\u001b[39;00m \u001b[38;5;129;01mand\u001b[39;00m\n\u001b[0;32m    345\u001b[0m         parse_constant \u001b[38;5;129;01mis\u001b[39;00m \u001b[38;5;28;01mNone\u001b[39;00m \u001b[38;5;129;01mand\u001b[39;00m object_pairs_hook \u001b[38;5;129;01mis\u001b[39;00m \u001b[38;5;28;01mNone\u001b[39;00m \u001b[38;5;129;01mand\u001b[39;00m \u001b[38;5;129;01mnot\u001b[39;00m kw):\n\u001b[1;32m--> 346\u001b[0m     \u001b[38;5;28;01mreturn\u001b[39;00m \u001b[43m_default_decoder\u001b[49m\u001b[38;5;241;43m.\u001b[39;49m\u001b[43mdecode\u001b[49m\u001b[43m(\u001b[49m\u001b[43ms\u001b[49m\u001b[43m)\u001b[49m\n\u001b[0;32m    347\u001b[0m \u001b[38;5;28;01mif\u001b[39;00m \u001b[38;5;28mcls\u001b[39m \u001b[38;5;129;01mis\u001b[39;00m \u001b[38;5;28;01mNone\u001b[39;00m:\n\u001b[0;32m    348\u001b[0m     \u001b[38;5;28mcls\u001b[39m \u001b[38;5;241m=\u001b[39m JSONDecoder\n",
      "File \u001b[1;32m~\\anaconda3\\lib\\json\\decoder.py:337\u001b[0m, in \u001b[0;36mJSONDecoder.decode\u001b[1;34m(self, s, _w)\u001b[0m\n\u001b[0;32m    332\u001b[0m \u001b[38;5;28;01mdef\u001b[39;00m \u001b[38;5;21mdecode\u001b[39m(\u001b[38;5;28mself\u001b[39m, s, _w\u001b[38;5;241m=\u001b[39mWHITESPACE\u001b[38;5;241m.\u001b[39mmatch):\n\u001b[0;32m    333\u001b[0m     \u001b[38;5;124;03m\"\"\"Return the Python representation of ``s`` (a ``str`` instance\u001b[39;00m\n\u001b[0;32m    334\u001b[0m \u001b[38;5;124;03m    containing a JSON document).\u001b[39;00m\n\u001b[0;32m    335\u001b[0m \n\u001b[0;32m    336\u001b[0m \u001b[38;5;124;03m    \"\"\"\u001b[39;00m\n\u001b[1;32m--> 337\u001b[0m     obj, end \u001b[38;5;241m=\u001b[39m \u001b[38;5;28;43mself\u001b[39;49m\u001b[38;5;241;43m.\u001b[39;49m\u001b[43mraw_decode\u001b[49m\u001b[43m(\u001b[49m\u001b[43ms\u001b[49m\u001b[43m,\u001b[49m\u001b[43m \u001b[49m\u001b[43midx\u001b[49m\u001b[38;5;241;43m=\u001b[39;49m\u001b[43m_w\u001b[49m\u001b[43m(\u001b[49m\u001b[43ms\u001b[49m\u001b[43m,\u001b[49m\u001b[43m \u001b[49m\u001b[38;5;241;43m0\u001b[39;49m\u001b[43m)\u001b[49m\u001b[38;5;241;43m.\u001b[39;49m\u001b[43mend\u001b[49m\u001b[43m(\u001b[49m\u001b[43m)\u001b[49m\u001b[43m)\u001b[49m\n\u001b[0;32m    338\u001b[0m     end \u001b[38;5;241m=\u001b[39m _w(s, end)\u001b[38;5;241m.\u001b[39mend()\n\u001b[0;32m    339\u001b[0m     \u001b[38;5;28;01mif\u001b[39;00m end \u001b[38;5;241m!=\u001b[39m \u001b[38;5;28mlen\u001b[39m(s):\n",
      "File \u001b[1;32m~\\anaconda3\\lib\\json\\decoder.py:355\u001b[0m, in \u001b[0;36mJSONDecoder.raw_decode\u001b[1;34m(self, s, idx)\u001b[0m\n\u001b[0;32m    353\u001b[0m     obj, end \u001b[38;5;241m=\u001b[39m \u001b[38;5;28mself\u001b[39m\u001b[38;5;241m.\u001b[39mscan_once(s, idx)\n\u001b[0;32m    354\u001b[0m \u001b[38;5;28;01mexcept\u001b[39;00m \u001b[38;5;167;01mStopIteration\u001b[39;00m \u001b[38;5;28;01mas\u001b[39;00m err:\n\u001b[1;32m--> 355\u001b[0m     \u001b[38;5;28;01mraise\u001b[39;00m JSONDecodeError(\u001b[38;5;124m\"\u001b[39m\u001b[38;5;124mExpecting value\u001b[39m\u001b[38;5;124m\"\u001b[39m, s, err\u001b[38;5;241m.\u001b[39mvalue) \u001b[38;5;28;01mfrom\u001b[39;00m \u001b[38;5;28mNone\u001b[39m\n\u001b[0;32m    356\u001b[0m \u001b[38;5;28;01mreturn\u001b[39;00m obj, end\n",
      "\u001b[1;31mJSONDecodeError\u001b[0m: Expecting value: line 1 column 1 (char 0)"
     ]
    }
   ],
   "source": [
    "res.json()"
   ]
  },
  {
   "cell_type": "markdown",
   "id": "42cf6faf",
   "metadata": {},
   "source": [
    "Intento otra forma de conectarme con mis key, siguiendo la documentación de la API, pero no lo consigo"
   ]
  },
  {
   "cell_type": "code",
   "execution_count": 9,
   "id": "4873ebc2",
   "metadata": {},
   "outputs": [],
   "source": [
    "\n",
    "\n",
    "        \n",
    "url='https://gateway.marvel.com:443/v1/public/characters?name=Thor&ts=20&apikey=f1c15480678d2cada97fa7a7ef86e69e&hash=49df307680bbf08584e5a449262fed1c7889e6ec'\n",
    "#header={'Authorization': 'token ' + contras}\n",
    "\n",
    "res=requests.get(url)"
   ]
  },
  {
   "cell_type": "code",
   "execution_count": 10,
   "id": "8d18f0f0",
   "metadata": {},
   "outputs": [
    {
     "data": {
      "text/plain": [
       "<Response [401]>"
      ]
     },
     "execution_count": 10,
     "metadata": {},
     "output_type": "execute_result"
    }
   ],
   "source": [
    "res"
   ]
  },
  {
   "cell_type": "markdown",
   "id": "a0c8232e",
   "metadata": {},
   "source": [
    "Finalmente encuentro una forma de conectarme a partir de una libería propia de la API, y con ayuda de la web voy sacando las consultas que quería"
   ]
  },
  {
   "cell_type": "code",
   "execution_count": 11,
   "id": "edb32d19",
   "metadata": {},
   "outputs": [],
   "source": [
    "from marvel import Marvel "
   ]
  },
  {
   "cell_type": "code",
   "execution_count": 12,
   "id": "cb43d98e",
   "metadata": {},
   "outputs": [],
   "source": [
    "protagonistas = pd.read_csv('../data/protas.csv')"
   ]
  },
  {
   "cell_type": "code",
   "execution_count": 13,
   "id": "d397fcc4",
   "metadata": {},
   "outputs": [
    {
     "data": {
      "text/html": [
       "<div>\n",
       "<style scoped>\n",
       "    .dataframe tbody tr th:only-of-type {\n",
       "        vertical-align: middle;\n",
       "    }\n",
       "\n",
       "    .dataframe tbody tr th {\n",
       "        vertical-align: top;\n",
       "    }\n",
       "\n",
       "    .dataframe thead th {\n",
       "        text-align: right;\n",
       "    }\n",
       "</style>\n",
       "<table border=\"1\" class=\"dataframe\">\n",
       "  <thead>\n",
       "    <tr style=\"text-align: right;\">\n",
       "      <th></th>\n",
       "      <th>personaje</th>\n",
       "      <th>orden</th>\n",
       "      <th>cuenta</th>\n",
       "      <th>Alternate Name</th>\n",
       "    </tr>\n",
       "  </thead>\n",
       "  <tbody>\n",
       "    <tr>\n",
       "      <th>0</th>\n",
       "      <td>Tony Stark</td>\n",
       "      <td>0</td>\n",
       "      <td>9</td>\n",
       "      <td>Iron Man</td>\n",
       "    </tr>\n",
       "    <tr>\n",
       "      <th>1</th>\n",
       "      <td>Peter Parker</td>\n",
       "      <td>0</td>\n",
       "      <td>8</td>\n",
       "      <td>Spider-Man</td>\n",
       "    </tr>\n",
       "    <tr>\n",
       "      <th>2</th>\n",
       "      <td>Natasha Romanoff</td>\n",
       "      <td>0</td>\n",
       "      <td>7</td>\n",
       "      <td>Black Widow</td>\n",
       "    </tr>\n",
       "    <tr>\n",
       "      <th>3</th>\n",
       "      <td>Steve Rogers</td>\n",
       "      <td>0</td>\n",
       "      <td>7</td>\n",
       "      <td>Captain America</td>\n",
       "    </tr>\n",
       "    <tr>\n",
       "      <th>4</th>\n",
       "      <td>Thor</td>\n",
       "      <td>0</td>\n",
       "      <td>7</td>\n",
       "      <td>Thor</td>\n",
       "    </tr>\n",
       "    <tr>\n",
       "      <th>5</th>\n",
       "      <td>Bruce Banner</td>\n",
       "      <td>0</td>\n",
       "      <td>6</td>\n",
       "      <td>Hulk</td>\n",
       "    </tr>\n",
       "    <tr>\n",
       "      <th>6</th>\n",
       "      <td>Stephen Strange</td>\n",
       "      <td>0</td>\n",
       "      <td>5</td>\n",
       "      <td>Doctor Strange</td>\n",
       "    </tr>\n",
       "    <tr>\n",
       "      <th>7</th>\n",
       "      <td>Scott Lang</td>\n",
       "      <td>0</td>\n",
       "      <td>4</td>\n",
       "      <td>Ant-man</td>\n",
       "    </tr>\n",
       "    <tr>\n",
       "      <th>8</th>\n",
       "      <td>T'Challa</td>\n",
       "      <td>0</td>\n",
       "      <td>4</td>\n",
       "      <td>Black Panther</td>\n",
       "    </tr>\n",
       "    <tr>\n",
       "      <th>9</th>\n",
       "      <td>Carol Danvers</td>\n",
       "      <td>0</td>\n",
       "      <td>2</td>\n",
       "      <td>Captain Marvel</td>\n",
       "    </tr>\n",
       "    <tr>\n",
       "      <th>10</th>\n",
       "      <td>Peter Quill</td>\n",
       "      <td>0</td>\n",
       "      <td>2</td>\n",
       "      <td>Star Lord</td>\n",
       "    </tr>\n",
       "    <tr>\n",
       "      <th>11</th>\n",
       "      <td>Sersi</td>\n",
       "      <td>0</td>\n",
       "      <td>1</td>\n",
       "      <td>Sersi</td>\n",
       "    </tr>\n",
       "    <tr>\n",
       "      <th>12</th>\n",
       "      <td>Shang-Chi</td>\n",
       "      <td>0</td>\n",
       "      <td>1</td>\n",
       "      <td>Shang-Chi</td>\n",
       "    </tr>\n",
       "  </tbody>\n",
       "</table>\n",
       "</div>"
      ],
      "text/plain": [
       "           personaje  orden  cuenta   Alternate Name\n",
       "0         Tony Stark      0       9         Iron Man\n",
       "1       Peter Parker      0       8       Spider-Man\n",
       "2   Natasha Romanoff      0       7      Black Widow\n",
       "3       Steve Rogers      0       7  Captain America\n",
       "4               Thor      0       7             Thor\n",
       "5       Bruce Banner      0       6             Hulk\n",
       "6    Stephen Strange      0       5   Doctor Strange\n",
       "7         Scott Lang      0       4          Ant-man\n",
       "8           T'Challa      0       4    Black Panther\n",
       "9      Carol Danvers      0       2   Captain Marvel\n",
       "10       Peter Quill      0       2        Star Lord\n",
       "11             Sersi      0       1            Sersi\n",
       "12         Shang-Chi      0       1        Shang-Chi"
      ]
     },
     "execution_count": 13,
     "metadata": {},
     "output_type": "execute_result"
    }
   ],
   "source": [
    "protagonistas"
   ]
  },
  {
   "cell_type": "code",
   "execution_count": 14,
   "id": "5b41f89f",
   "metadata": {},
   "outputs": [],
   "source": [
    "protas = protagonistas['Alternate Name']"
   ]
  },
  {
   "cell_type": "code",
   "execution_count": 15,
   "id": "c1b671f3",
   "metadata": {},
   "outputs": [
    {
     "data": {
      "text/plain": [
       "0            Iron Man\n",
       "1          Spider-Man\n",
       "2         Black Widow\n",
       "3     Captain America\n",
       "4                Thor\n",
       "5                Hulk\n",
       "6      Doctor Strange\n",
       "7             Ant-man\n",
       "8       Black Panther\n",
       "9      Captain Marvel\n",
       "10          Star Lord\n",
       "11              Sersi\n",
       "12          Shang-Chi\n",
       "Name: Alternate Name, dtype: object"
      ]
     },
     "execution_count": 15,
     "metadata": {},
     "output_type": "execute_result"
    }
   ],
   "source": [
    "protas"
   ]
  },
  {
   "cell_type": "code",
   "execution_count": 16,
   "id": "ecf57d75",
   "metadata": {},
   "outputs": [
    {
     "name": "stderr",
     "output_type": "stream",
     "text": [
      "C:\\Users\\aaron\\AppData\\Local\\Temp\\ipykernel_7232\\3522808105.py:1: SettingWithCopyWarning: \n",
      "A value is trying to be set on a copy of a slice from a DataFrame\n",
      "\n",
      "See the caveats in the documentation: https://pandas.pydata.org/pandas-docs/stable/user_guide/indexing.html#returning-a-view-versus-a-copy\n",
      "  protas[10] = 'Peter Quill'\n"
     ]
    }
   ],
   "source": [
    "protas[10] = 'Peter Quill'"
   ]
  },
  {
   "cell_type": "code",
   "execution_count": 17,
   "id": "781af291",
   "metadata": {},
   "outputs": [],
   "source": [
    "m = Marvel('f1c15480678d2cada97fa7a7ef86e69e', '49df307680bbf08584e5a449262fed1c7889e6ec')"
   ]
  },
  {
   "cell_type": "code",
   "execution_count": 18,
   "id": "bf08f510",
   "metadata": {},
   "outputs": [],
   "source": [
    "char = m.characters"
   ]
  },
  {
   "cell_type": "code",
   "execution_count": 19,
   "id": "bd4a6c01",
   "metadata": {},
   "outputs": [
    {
     "data": {
      "text/plain": [
       "[{'id': 1010734,\n",
       "  'name': 'Peter Quill',\n",
       "  'description': '',\n",
       "  'modified': '1969-12-31T19:00:00-0500',\n",
       "  'thumbnail': {'path': 'http://i.annihil.us/u/prod/marvel/i/mg/b/40/image_not_available',\n",
       "   'extension': 'jpg'},\n",
       "  'resourceURI': 'http://gateway.marvel.com/v1/public/characters/1010734',\n",
       "  'comics': {'available': 7,\n",
       "   'collectionURI': 'http://gateway.marvel.com/v1/public/characters/1010734/comics',\n",
       "   'items': [{'resourceURI': 'http://gateway.marvel.com/v1/public/comics/4788',\n",
       "     'name': 'Annihilation (2006) #1'},\n",
       "    {'resourceURI': 'http://gateway.marvel.com/v1/public/comics/5529',\n",
       "     'name': 'Annihilation (2006) #4'},\n",
       "    {'resourceURI': 'http://gateway.marvel.com/v1/public/comics/65271',\n",
       "     'name': 'The Mighty Captain Marvel (2017) #127'},\n",
       "    {'resourceURI': 'http://gateway.marvel.com/v1/public/comics/73939',\n",
       "     'name': \"Old Man Quill Vol. 1: Nobody's Fault But Mine (Trade Paperback)\"},\n",
       "    {'resourceURI': 'http://gateway.marvel.com/v1/public/comics/684',\n",
       "     'name': 'Thanos (2003) #11'},\n",
       "    {'resourceURI': 'http://gateway.marvel.com/v1/public/comics/598',\n",
       "     'name': 'Thanos (2003) #12'},\n",
       "    {'resourceURI': 'http://gateway.marvel.com/v1/public/comics/1362',\n",
       "     'name': 'THANOS VOL. 5: SAMARITAN TPB (Trade Paperback)'}],\n",
       "   'returned': 7},\n",
       "  'series': {'available': 5,\n",
       "   'collectionURI': 'http://gateway.marvel.com/v1/public/characters/1010734/series',\n",
       "   'items': [{'resourceURI': 'http://gateway.marvel.com/v1/public/series/3613',\n",
       "     'name': 'Annihilation (2006 - 2007)'},\n",
       "    {'resourceURI': 'http://gateway.marvel.com/v1/public/series/26642',\n",
       "     'name': \"Old Man Quill Vol. 1: Nobody's Fault But Mine (2019)\"},\n",
       "    {'resourceURI': 'http://gateway.marvel.com/v1/public/series/548',\n",
       "     'name': 'Thanos (2003 - 2004)'},\n",
       "    {'resourceURI': 'http://gateway.marvel.com/v1/public/series/1307',\n",
       "     'name': 'THANOS VOL. 5: SAMARITAN TPB (2004)'},\n",
       "    {'resourceURI': 'http://gateway.marvel.com/v1/public/series/22551',\n",
       "     'name': 'The Mighty Captain Marvel (2017 - 2018)'}],\n",
       "   'returned': 5},\n",
       "  'stories': {'available': 6,\n",
       "   'collectionURI': 'http://gateway.marvel.com/v1/public/characters/1010734/stories',\n",
       "   'items': [{'resourceURI': 'http://gateway.marvel.com/v1/public/stories/2442',\n",
       "     'name': 'Cover #2442',\n",
       "     'type': 'cover'},\n",
       "    {'resourceURI': 'http://gateway.marvel.com/v1/public/stories/2446',\n",
       "     'name': 'Cover #2446',\n",
       "     'type': 'cover'},\n",
       "    {'resourceURI': 'http://gateway.marvel.com/v1/public/stories/5962',\n",
       "     'name': '4 of 6 - Annihilation',\n",
       "     'type': 'cover'},\n",
       "    {'resourceURI': 'http://gateway.marvel.com/v1/public/stories/65613',\n",
       "     'name': 'ANNIHILATION 1 cover',\n",
       "     'type': 'cover'},\n",
       "    {'resourceURI': 'http://gateway.marvel.com/v1/public/stories/141648',\n",
       "     'name': 'cover from Captain Marvel (2017) #127',\n",
       "     'type': 'cover'},\n",
       "    {'resourceURI': 'http://gateway.marvel.com/v1/public/stories/164691',\n",
       "     'name': 'cover from OLD MAN QUILL VOL. 1 TPB (2019) #1',\n",
       "     'type': 'cover'}],\n",
       "   'returned': 6},\n",
       "  'events': {'available': 1,\n",
       "   'collectionURI': 'http://gateway.marvel.com/v1/public/characters/1010734/events',\n",
       "   'items': [{'resourceURI': 'http://gateway.marvel.com/v1/public/events/229',\n",
       "     'name': 'Annihilation'}],\n",
       "   'returned': 1},\n",
       "  'urls': [{'type': 'detail',\n",
       "    'url': 'http://marvel.com/characters/2813/peter_quill?utm_campaign=apiRef&utm_source=f1c15480678d2cada97fa7a7ef86e69e'},\n",
       "   {'type': 'comiclink',\n",
       "    'url': 'http://marvel.com/comics/characters/1010734/peter_quill?utm_campaign=apiRef&utm_source=f1c15480678d2cada97fa7a7ef86e69e'}]}]"
      ]
     },
     "execution_count": 19,
     "metadata": {},
     "output_type": "execute_result"
    }
   ],
   "source": [
    "char.all(nameStartsWith=protas[10])['data']['results']"
   ]
  },
  {
   "cell_type": "code",
   "execution_count": 20,
   "id": "8043e28e",
   "metadata": {},
   "outputs": [],
   "source": [
    "lista_comic = []\n",
    "for e in protas:\n",
    "    lista = [e]\n",
    "    lista.append(char.all(nameStartsWith=e)['data']['results'][0]['comics']['items'])\n",
    "    lista_comic.append(lista)"
   ]
  },
  {
   "cell_type": "code",
   "execution_count": 21,
   "id": "0844c037",
   "metadata": {},
   "outputs": [
    {
     "data": {
      "text/plain": [
       "['Iron Man',\n",
       " [{'resourceURI': 'http://gateway.marvel.com/v1/public/comics/43495',\n",
       "   'name': 'A+X (2012) #2'},\n",
       "  {'resourceURI': 'http://gateway.marvel.com/v1/public/comics/43506',\n",
       "   'name': 'A+X (2012) #7'},\n",
       "  {'resourceURI': 'http://gateway.marvel.com/v1/public/comics/22461',\n",
       "   'name': 'Adam: Legend of the Blue Marvel (2008) #1'},\n",
       "  {'resourceURI': 'http://gateway.marvel.com/v1/public/comics/22856',\n",
       "   'name': 'Adam: Legend of the Blue Marvel (2008) #2'},\n",
       "  {'resourceURI': 'http://gateway.marvel.com/v1/public/comics/23733',\n",
       "   'name': 'Adam: Legend of the Blue Marvel (2008) #5'},\n",
       "  {'resourceURI': 'http://gateway.marvel.com/v1/public/comics/76359',\n",
       "   'name': 'Aero (2019) #11'},\n",
       "  {'resourceURI': 'http://gateway.marvel.com/v1/public/comics/76360',\n",
       "   'name': 'Aero (2019) #12'},\n",
       "  {'resourceURI': 'http://gateway.marvel.com/v1/public/comics/30090',\n",
       "   'name': 'Age of Heroes (2010) #1'},\n",
       "  {'resourceURI': 'http://gateway.marvel.com/v1/public/comics/33566',\n",
       "   'name': 'Age of Heroes (2010) #2'},\n",
       "  {'resourceURI': 'http://gateway.marvel.com/v1/public/comics/30092',\n",
       "   'name': 'Age of Heroes (2010) #3'},\n",
       "  {'resourceURI': 'http://gateway.marvel.com/v1/public/comics/30093',\n",
       "   'name': 'Age of Heroes (2010) #4'},\n",
       "  {'resourceURI': 'http://gateway.marvel.com/v1/public/comics/67603',\n",
       "   'name': 'Age of Innocence: The Rebirth of Iron Man (1996) #1'},\n",
       "  {'resourceURI': 'http://gateway.marvel.com/v1/public/comics/38524',\n",
       "   'name': 'Age of X: Universe (2011) #1'},\n",
       "  {'resourceURI': 'http://gateway.marvel.com/v1/public/comics/38523',\n",
       "   'name': 'Age of X: Universe (2011) #2'},\n",
       "  {'resourceURI': 'http://gateway.marvel.com/v1/public/comics/21280',\n",
       "   'name': 'All-New Iron Manual (2008) #1'},\n",
       "  {'resourceURI': 'http://gateway.marvel.com/v1/public/comics/55363',\n",
       "   'name': 'All-New, All-Different Avengers (2015) #10'},\n",
       "  {'resourceURI': 'http://gateway.marvel.com/v1/public/comics/55364',\n",
       "   'name': 'All-New, All-Different Avengers (2015) #11'},\n",
       "  {'resourceURI': 'http://gateway.marvel.com/v1/public/comics/12653',\n",
       "   'name': 'Alpha Flight (1983) #113'},\n",
       "  {'resourceURI': 'http://gateway.marvel.com/v1/public/comics/12668',\n",
       "   'name': 'Alpha Flight (1983) #127'},\n",
       "  {'resourceURI': 'http://gateway.marvel.com/v1/public/comics/55311',\n",
       "   'name': 'The Amazing Spider-Man (2017) #13'}]]"
      ]
     },
     "execution_count": 21,
     "metadata": {},
     "output_type": "execute_result"
    }
   ],
   "source": [
    "lista_comic[0]"
   ]
  },
  {
   "cell_type": "code",
   "execution_count": 22,
   "id": "306181c7",
   "metadata": {},
   "outputs": [],
   "source": [
    "cabeceras = ['heroe', 'comics']"
   ]
  },
  {
   "cell_type": "code",
   "execution_count": 23,
   "id": "90a0c2be",
   "metadata": {},
   "outputs": [],
   "source": [
    "df =pd.DataFrame(lista_comic, columns = cabeceras)"
   ]
  },
  {
   "cell_type": "code",
   "execution_count": 24,
   "id": "23a81b5c",
   "metadata": {},
   "outputs": [],
   "source": [
    "df.iloc[10,0] = 'Star Lord'"
   ]
  },
  {
   "cell_type": "code",
   "execution_count": 25,
   "id": "bbfa5704",
   "metadata": {},
   "outputs": [
    {
     "data": {
      "text/html": [
       "<div>\n",
       "<style scoped>\n",
       "    .dataframe tbody tr th:only-of-type {\n",
       "        vertical-align: middle;\n",
       "    }\n",
       "\n",
       "    .dataframe tbody tr th {\n",
       "        vertical-align: top;\n",
       "    }\n",
       "\n",
       "    .dataframe thead th {\n",
       "        text-align: right;\n",
       "    }\n",
       "</style>\n",
       "<table border=\"1\" class=\"dataframe\">\n",
       "  <thead>\n",
       "    <tr style=\"text-align: right;\">\n",
       "      <th></th>\n",
       "      <th>heroe</th>\n",
       "      <th>comics</th>\n",
       "    </tr>\n",
       "  </thead>\n",
       "  <tbody>\n",
       "    <tr>\n",
       "      <th>0</th>\n",
       "      <td>Iron Man</td>\n",
       "      <td>[{'resourceURI': 'http://gateway.marvel.com/v1...</td>\n",
       "    </tr>\n",
       "    <tr>\n",
       "      <th>1</th>\n",
       "      <td>Spider-Man</td>\n",
       "      <td>[{'resourceURI': 'http://gateway.marvel.com/v1...</td>\n",
       "    </tr>\n",
       "    <tr>\n",
       "      <th>2</th>\n",
       "      <td>Black Widow</td>\n",
       "      <td>[{'resourceURI': 'http://gateway.marvel.com/v1...</td>\n",
       "    </tr>\n",
       "    <tr>\n",
       "      <th>3</th>\n",
       "      <td>Captain America</td>\n",
       "      <td>[{'resourceURI': 'http://gateway.marvel.com/v1...</td>\n",
       "    </tr>\n",
       "    <tr>\n",
       "      <th>4</th>\n",
       "      <td>Thor</td>\n",
       "      <td>[{'resourceURI': 'http://gateway.marvel.com/v1...</td>\n",
       "    </tr>\n",
       "    <tr>\n",
       "      <th>5</th>\n",
       "      <td>Hulk</td>\n",
       "      <td>[{'resourceURI': 'http://gateway.marvel.com/v1...</td>\n",
       "    </tr>\n",
       "    <tr>\n",
       "      <th>6</th>\n",
       "      <td>Doctor Strange</td>\n",
       "      <td>[{'resourceURI': 'http://gateway.marvel.com/v1...</td>\n",
       "    </tr>\n",
       "    <tr>\n",
       "      <th>7</th>\n",
       "      <td>Ant-man</td>\n",
       "      <td>[{'resourceURI': 'http://gateway.marvel.com/v1...</td>\n",
       "    </tr>\n",
       "    <tr>\n",
       "      <th>8</th>\n",
       "      <td>Black Panther</td>\n",
       "      <td>[{'resourceURI': 'http://gateway.marvel.com/v1...</td>\n",
       "    </tr>\n",
       "    <tr>\n",
       "      <th>9</th>\n",
       "      <td>Captain Marvel</td>\n",
       "      <td>[{'resourceURI': 'http://gateway.marvel.com/v1...</td>\n",
       "    </tr>\n",
       "    <tr>\n",
       "      <th>10</th>\n",
       "      <td>Star Lord</td>\n",
       "      <td>[{'resourceURI': 'http://gateway.marvel.com/v1...</td>\n",
       "    </tr>\n",
       "    <tr>\n",
       "      <th>11</th>\n",
       "      <td>Sersi</td>\n",
       "      <td>[{'resourceURI': 'http://gateway.marvel.com/v1...</td>\n",
       "    </tr>\n",
       "    <tr>\n",
       "      <th>12</th>\n",
       "      <td>Shang-Chi</td>\n",
       "      <td>[{'resourceURI': 'http://gateway.marvel.com/v1...</td>\n",
       "    </tr>\n",
       "  </tbody>\n",
       "</table>\n",
       "</div>"
      ],
      "text/plain": [
       "              heroe                                             comics\n",
       "0          Iron Man  [{'resourceURI': 'http://gateway.marvel.com/v1...\n",
       "1        Spider-Man  [{'resourceURI': 'http://gateway.marvel.com/v1...\n",
       "2       Black Widow  [{'resourceURI': 'http://gateway.marvel.com/v1...\n",
       "3   Captain America  [{'resourceURI': 'http://gateway.marvel.com/v1...\n",
       "4              Thor  [{'resourceURI': 'http://gateway.marvel.com/v1...\n",
       "5              Hulk  [{'resourceURI': 'http://gateway.marvel.com/v1...\n",
       "6    Doctor Strange  [{'resourceURI': 'http://gateway.marvel.com/v1...\n",
       "7           Ant-man  [{'resourceURI': 'http://gateway.marvel.com/v1...\n",
       "8     Black Panther  [{'resourceURI': 'http://gateway.marvel.com/v1...\n",
       "9    Captain Marvel  [{'resourceURI': 'http://gateway.marvel.com/v1...\n",
       "10        Star Lord  [{'resourceURI': 'http://gateway.marvel.com/v1...\n",
       "11            Sersi  [{'resourceURI': 'http://gateway.marvel.com/v1...\n",
       "12        Shang-Chi  [{'resourceURI': 'http://gateway.marvel.com/v1..."
      ]
     },
     "execution_count": 25,
     "metadata": {},
     "output_type": "execute_result"
    }
   ],
   "source": [
    "df"
   ]
  },
  {
   "cell_type": "code",
   "execution_count": 26,
   "id": "c95fb370",
   "metadata": {},
   "outputs": [],
   "source": [
    "df = df.explode('comics')"
   ]
  },
  {
   "cell_type": "code",
   "execution_count": 27,
   "id": "412729f2",
   "metadata": {},
   "outputs": [
    {
     "data": {
      "text/plain": [
       "(247, 2)"
      ]
     },
     "execution_count": 27,
     "metadata": {},
     "output_type": "execute_result"
    }
   ],
   "source": [
    "df.shape"
   ]
  },
  {
   "cell_type": "code",
   "execution_count": 28,
   "id": "5a32246e",
   "metadata": {},
   "outputs": [],
   "source": [
    "df.reset_index(drop = True, inplace = True)"
   ]
  },
  {
   "cell_type": "code",
   "execution_count": 29,
   "id": "2dee3319",
   "metadata": {},
   "outputs": [
    {
     "data": {
      "text/html": [
       "<div>\n",
       "<style scoped>\n",
       "    .dataframe tbody tr th:only-of-type {\n",
       "        vertical-align: middle;\n",
       "    }\n",
       "\n",
       "    .dataframe tbody tr th {\n",
       "        vertical-align: top;\n",
       "    }\n",
       "\n",
       "    .dataframe thead th {\n",
       "        text-align: right;\n",
       "    }\n",
       "</style>\n",
       "<table border=\"1\" class=\"dataframe\">\n",
       "  <thead>\n",
       "    <tr style=\"text-align: right;\">\n",
       "      <th></th>\n",
       "      <th>heroe</th>\n",
       "      <th>comics</th>\n",
       "    </tr>\n",
       "  </thead>\n",
       "  <tbody>\n",
       "    <tr>\n",
       "      <th>0</th>\n",
       "      <td>Iron Man</td>\n",
       "      <td>{'resourceURI': 'http://gateway.marvel.com/v1/...</td>\n",
       "    </tr>\n",
       "    <tr>\n",
       "      <th>1</th>\n",
       "      <td>Iron Man</td>\n",
       "      <td>{'resourceURI': 'http://gateway.marvel.com/v1/...</td>\n",
       "    </tr>\n",
       "    <tr>\n",
       "      <th>2</th>\n",
       "      <td>Iron Man</td>\n",
       "      <td>{'resourceURI': 'http://gateway.marvel.com/v1/...</td>\n",
       "    </tr>\n",
       "    <tr>\n",
       "      <th>3</th>\n",
       "      <td>Iron Man</td>\n",
       "      <td>{'resourceURI': 'http://gateway.marvel.com/v1/...</td>\n",
       "    </tr>\n",
       "    <tr>\n",
       "      <th>4</th>\n",
       "      <td>Iron Man</td>\n",
       "      <td>{'resourceURI': 'http://gateway.marvel.com/v1/...</td>\n",
       "    </tr>\n",
       "  </tbody>\n",
       "</table>\n",
       "</div>"
      ],
      "text/plain": [
       "      heroe                                             comics\n",
       "0  Iron Man  {'resourceURI': 'http://gateway.marvel.com/v1/...\n",
       "1  Iron Man  {'resourceURI': 'http://gateway.marvel.com/v1/...\n",
       "2  Iron Man  {'resourceURI': 'http://gateway.marvel.com/v1/...\n",
       "3  Iron Man  {'resourceURI': 'http://gateway.marvel.com/v1/...\n",
       "4  Iron Man  {'resourceURI': 'http://gateway.marvel.com/v1/..."
      ]
     },
     "execution_count": 29,
     "metadata": {},
     "output_type": "execute_result"
    }
   ],
   "source": [
    "df.head()"
   ]
  },
  {
   "cell_type": "code",
   "execution_count": 30,
   "id": "43110add",
   "metadata": {},
   "outputs": [
    {
     "data": {
      "text/html": [
       "<div>\n",
       "<style scoped>\n",
       "    .dataframe tbody tr th:only-of-type {\n",
       "        vertical-align: middle;\n",
       "    }\n",
       "\n",
       "    .dataframe tbody tr th {\n",
       "        vertical-align: top;\n",
       "    }\n",
       "\n",
       "    .dataframe thead th {\n",
       "        text-align: right;\n",
       "    }\n",
       "</style>\n",
       "<table border=\"1\" class=\"dataframe\">\n",
       "  <thead>\n",
       "    <tr style=\"text-align: right;\">\n",
       "      <th></th>\n",
       "      <th>resourceURI</th>\n",
       "      <th>name</th>\n",
       "    </tr>\n",
       "  </thead>\n",
       "  <tbody>\n",
       "    <tr>\n",
       "      <th>0</th>\n",
       "      <td>http://gateway.marvel.com/v1/public/comics/43495</td>\n",
       "      <td>A+X (2012) #2</td>\n",
       "    </tr>\n",
       "    <tr>\n",
       "      <th>1</th>\n",
       "      <td>http://gateway.marvel.com/v1/public/comics/43506</td>\n",
       "      <td>A+X (2012) #7</td>\n",
       "    </tr>\n",
       "    <tr>\n",
       "      <th>2</th>\n",
       "      <td>http://gateway.marvel.com/v1/public/comics/22461</td>\n",
       "      <td>Adam: Legend of the Blue Marvel (2008) #1</td>\n",
       "    </tr>\n",
       "    <tr>\n",
       "      <th>3</th>\n",
       "      <td>http://gateway.marvel.com/v1/public/comics/22856</td>\n",
       "      <td>Adam: Legend of the Blue Marvel (2008) #2</td>\n",
       "    </tr>\n",
       "    <tr>\n",
       "      <th>4</th>\n",
       "      <td>http://gateway.marvel.com/v1/public/comics/23733</td>\n",
       "      <td>Adam: Legend of the Blue Marvel (2008) #5</td>\n",
       "    </tr>\n",
       "    <tr>\n",
       "      <th>...</th>\n",
       "      <td>...</td>\n",
       "      <td>...</td>\n",
       "    </tr>\n",
       "    <tr>\n",
       "      <th>242</th>\n",
       "      <td>http://gateway.marvel.com/v1/public/comics/46030</td>\n",
       "      <td>Dark Avengers (2012) #190</td>\n",
       "    </tr>\n",
       "    <tr>\n",
       "      <th>243</th>\n",
       "      <td>http://gateway.marvel.com/v1/public/comics/50533</td>\n",
       "      <td>Deadly Hands of Kung Fu (2014) #1</td>\n",
       "    </tr>\n",
       "    <tr>\n",
       "      <th>244</th>\n",
       "      <td>http://gateway.marvel.com/v1/public/comics/50534</td>\n",
       "      <td>Deadly Hands of Kung Fu (2014) #2</td>\n",
       "    </tr>\n",
       "    <tr>\n",
       "      <th>245</th>\n",
       "      <td>http://gateway.marvel.com/v1/public/comics/50535</td>\n",
       "      <td>Deadly Hands of Kung Fu (2014) #3</td>\n",
       "    </tr>\n",
       "    <tr>\n",
       "      <th>246</th>\n",
       "      <td>http://gateway.marvel.com/v1/public/comics/50536</td>\n",
       "      <td>Deadly Hands of Kung Fu (2014) #4</td>\n",
       "    </tr>\n",
       "  </tbody>\n",
       "</table>\n",
       "<p>247 rows × 2 columns</p>\n",
       "</div>"
      ],
      "text/plain": [
       "                                          resourceURI  \\\n",
       "0    http://gateway.marvel.com/v1/public/comics/43495   \n",
       "1    http://gateway.marvel.com/v1/public/comics/43506   \n",
       "2    http://gateway.marvel.com/v1/public/comics/22461   \n",
       "3    http://gateway.marvel.com/v1/public/comics/22856   \n",
       "4    http://gateway.marvel.com/v1/public/comics/23733   \n",
       "..                                                ...   \n",
       "242  http://gateway.marvel.com/v1/public/comics/46030   \n",
       "243  http://gateway.marvel.com/v1/public/comics/50533   \n",
       "244  http://gateway.marvel.com/v1/public/comics/50534   \n",
       "245  http://gateway.marvel.com/v1/public/comics/50535   \n",
       "246  http://gateway.marvel.com/v1/public/comics/50536   \n",
       "\n",
       "                                          name  \n",
       "0                                A+X (2012) #2  \n",
       "1                                A+X (2012) #7  \n",
       "2    Adam: Legend of the Blue Marvel (2008) #1  \n",
       "3    Adam: Legend of the Blue Marvel (2008) #2  \n",
       "4    Adam: Legend of the Blue Marvel (2008) #5  \n",
       "..                                         ...  \n",
       "242                  Dark Avengers (2012) #190  \n",
       "243          Deadly Hands of Kung Fu (2014) #1  \n",
       "244          Deadly Hands of Kung Fu (2014) #2  \n",
       "245          Deadly Hands of Kung Fu (2014) #3  \n",
       "246          Deadly Hands of Kung Fu (2014) #4  \n",
       "\n",
       "[247 rows x 2 columns]"
      ]
     },
     "execution_count": 30,
     "metadata": {},
     "output_type": "execute_result"
    }
   ],
   "source": [
    "pd.json_normalize(df.comics)"
   ]
  },
  {
   "cell_type": "code",
   "execution_count": 31,
   "id": "6b2e7e77",
   "metadata": {},
   "outputs": [],
   "source": [
    "df = df.join(pd.json_normalize(df.comics))"
   ]
  },
  {
   "cell_type": "code",
   "execution_count": 32,
   "id": "8623cc0a",
   "metadata": {},
   "outputs": [],
   "source": [
    "df = df.drop(columns= 'comics')"
   ]
  },
  {
   "cell_type": "code",
   "execution_count": 33,
   "id": "784f3dfd",
   "metadata": {},
   "outputs": [
    {
     "data": {
      "text/html": [
       "<div>\n",
       "<style scoped>\n",
       "    .dataframe tbody tr th:only-of-type {\n",
       "        vertical-align: middle;\n",
       "    }\n",
       "\n",
       "    .dataframe tbody tr th {\n",
       "        vertical-align: top;\n",
       "    }\n",
       "\n",
       "    .dataframe thead th {\n",
       "        text-align: right;\n",
       "    }\n",
       "</style>\n",
       "<table border=\"1\" class=\"dataframe\">\n",
       "  <thead>\n",
       "    <tr style=\"text-align: right;\">\n",
       "      <th></th>\n",
       "      <th>heroe</th>\n",
       "      <th>resourceURI</th>\n",
       "      <th>name</th>\n",
       "    </tr>\n",
       "  </thead>\n",
       "  <tbody>\n",
       "    <tr>\n",
       "      <th>0</th>\n",
       "      <td>Iron Man</td>\n",
       "      <td>http://gateway.marvel.com/v1/public/comics/43495</td>\n",
       "      <td>A+X (2012) #2</td>\n",
       "    </tr>\n",
       "    <tr>\n",
       "      <th>1</th>\n",
       "      <td>Iron Man</td>\n",
       "      <td>http://gateway.marvel.com/v1/public/comics/43506</td>\n",
       "      <td>A+X (2012) #7</td>\n",
       "    </tr>\n",
       "    <tr>\n",
       "      <th>2</th>\n",
       "      <td>Iron Man</td>\n",
       "      <td>http://gateway.marvel.com/v1/public/comics/22461</td>\n",
       "      <td>Adam: Legend of the Blue Marvel (2008) #1</td>\n",
       "    </tr>\n",
       "    <tr>\n",
       "      <th>3</th>\n",
       "      <td>Iron Man</td>\n",
       "      <td>http://gateway.marvel.com/v1/public/comics/22856</td>\n",
       "      <td>Adam: Legend of the Blue Marvel (2008) #2</td>\n",
       "    </tr>\n",
       "    <tr>\n",
       "      <th>4</th>\n",
       "      <td>Iron Man</td>\n",
       "      <td>http://gateway.marvel.com/v1/public/comics/23733</td>\n",
       "      <td>Adam: Legend of the Blue Marvel (2008) #5</td>\n",
       "    </tr>\n",
       "    <tr>\n",
       "      <th>...</th>\n",
       "      <td>...</td>\n",
       "      <td>...</td>\n",
       "      <td>...</td>\n",
       "    </tr>\n",
       "    <tr>\n",
       "      <th>242</th>\n",
       "      <td>Shang-Chi</td>\n",
       "      <td>http://gateway.marvel.com/v1/public/comics/46030</td>\n",
       "      <td>Dark Avengers (2012) #190</td>\n",
       "    </tr>\n",
       "    <tr>\n",
       "      <th>243</th>\n",
       "      <td>Shang-Chi</td>\n",
       "      <td>http://gateway.marvel.com/v1/public/comics/50533</td>\n",
       "      <td>Deadly Hands of Kung Fu (2014) #1</td>\n",
       "    </tr>\n",
       "    <tr>\n",
       "      <th>244</th>\n",
       "      <td>Shang-Chi</td>\n",
       "      <td>http://gateway.marvel.com/v1/public/comics/50534</td>\n",
       "      <td>Deadly Hands of Kung Fu (2014) #2</td>\n",
       "    </tr>\n",
       "    <tr>\n",
       "      <th>245</th>\n",
       "      <td>Shang-Chi</td>\n",
       "      <td>http://gateway.marvel.com/v1/public/comics/50535</td>\n",
       "      <td>Deadly Hands of Kung Fu (2014) #3</td>\n",
       "    </tr>\n",
       "    <tr>\n",
       "      <th>246</th>\n",
       "      <td>Shang-Chi</td>\n",
       "      <td>http://gateway.marvel.com/v1/public/comics/50536</td>\n",
       "      <td>Deadly Hands of Kung Fu (2014) #4</td>\n",
       "    </tr>\n",
       "  </tbody>\n",
       "</table>\n",
       "<p>247 rows × 3 columns</p>\n",
       "</div>"
      ],
      "text/plain": [
       "         heroe                                       resourceURI  \\\n",
       "0     Iron Man  http://gateway.marvel.com/v1/public/comics/43495   \n",
       "1     Iron Man  http://gateway.marvel.com/v1/public/comics/43506   \n",
       "2     Iron Man  http://gateway.marvel.com/v1/public/comics/22461   \n",
       "3     Iron Man  http://gateway.marvel.com/v1/public/comics/22856   \n",
       "4     Iron Man  http://gateway.marvel.com/v1/public/comics/23733   \n",
       "..         ...                                               ...   \n",
       "242  Shang-Chi  http://gateway.marvel.com/v1/public/comics/46030   \n",
       "243  Shang-Chi  http://gateway.marvel.com/v1/public/comics/50533   \n",
       "244  Shang-Chi  http://gateway.marvel.com/v1/public/comics/50534   \n",
       "245  Shang-Chi  http://gateway.marvel.com/v1/public/comics/50535   \n",
       "246  Shang-Chi  http://gateway.marvel.com/v1/public/comics/50536   \n",
       "\n",
       "                                          name  \n",
       "0                                A+X (2012) #2  \n",
       "1                                A+X (2012) #7  \n",
       "2    Adam: Legend of the Blue Marvel (2008) #1  \n",
       "3    Adam: Legend of the Blue Marvel (2008) #2  \n",
       "4    Adam: Legend of the Blue Marvel (2008) #5  \n",
       "..                                         ...  \n",
       "242                  Dark Avengers (2012) #190  \n",
       "243          Deadly Hands of Kung Fu (2014) #1  \n",
       "244          Deadly Hands of Kung Fu (2014) #2  \n",
       "245          Deadly Hands of Kung Fu (2014) #3  \n",
       "246          Deadly Hands of Kung Fu (2014) #4  \n",
       "\n",
       "[247 rows x 3 columns]"
      ]
     },
     "execution_count": 33,
     "metadata": {},
     "output_type": "execute_result"
    }
   ],
   "source": [
    "df"
   ]
  },
  {
   "cell_type": "code",
   "execution_count": 34,
   "id": "2d2a6845",
   "metadata": {},
   "outputs": [],
   "source": [
    "personajes = pd.read_csv('../data/tablas/personajes.csv')"
   ]
  },
  {
   "cell_type": "code",
   "execution_count": 35,
   "id": "3a37a456",
   "metadata": {},
   "outputs": [
    {
     "data": {
      "text/html": [
       "<div>\n",
       "<style scoped>\n",
       "    .dataframe tbody tr th:only-of-type {\n",
       "        vertical-align: middle;\n",
       "    }\n",
       "\n",
       "    .dataframe tbody tr th {\n",
       "        vertical-align: top;\n",
       "    }\n",
       "\n",
       "    .dataframe thead th {\n",
       "        text-align: right;\n",
       "    }\n",
       "</style>\n",
       "<table border=\"1\" class=\"dataframe\">\n",
       "  <thead>\n",
       "    <tr style=\"text-align: right;\">\n",
       "      <th></th>\n",
       "      <th>id</th>\n",
       "      <th>personaje</th>\n",
       "      <th>Alias</th>\n",
       "    </tr>\n",
       "  </thead>\n",
       "  <tbody>\n",
       "    <tr>\n",
       "      <th>0</th>\n",
       "      <td>0</td>\n",
       "      <td>Tony Stark</td>\n",
       "      <td>Iron Man</td>\n",
       "    </tr>\n",
       "    <tr>\n",
       "      <th>1</th>\n",
       "      <td>1</td>\n",
       "      <td>Pepper Potts</td>\n",
       "      <td>NaN</td>\n",
       "    </tr>\n",
       "    <tr>\n",
       "      <th>2</th>\n",
       "      <td>2</td>\n",
       "      <td>Rhodey</td>\n",
       "      <td>NaN</td>\n",
       "    </tr>\n",
       "    <tr>\n",
       "      <th>3</th>\n",
       "      <td>3</td>\n",
       "      <td>Obadiah Stane</td>\n",
       "      <td>NaN</td>\n",
       "    </tr>\n",
       "    <tr>\n",
       "      <th>4</th>\n",
       "      <td>4</td>\n",
       "      <td>Christine Everhart</td>\n",
       "      <td>NaN</td>\n",
       "    </tr>\n",
       "  </tbody>\n",
       "</table>\n",
       "</div>"
      ],
      "text/plain": [
       "   id           personaje     Alias\n",
       "0   0          Tony Stark  Iron Man\n",
       "1   1        Pepper Potts       NaN\n",
       "2   2              Rhodey       NaN\n",
       "3   3       Obadiah Stane       NaN\n",
       "4   4  Christine Everhart       NaN"
      ]
     },
     "execution_count": 35,
     "metadata": {},
     "output_type": "execute_result"
    }
   ],
   "source": [
    "personajes.head()"
   ]
  },
  {
   "cell_type": "code",
   "execution_count": 36,
   "id": "b4b33427",
   "metadata": {},
   "outputs": [
    {
     "data": {
      "text/plain": [
       "array([134, 132,  60,  44, 190, 140,  17,   0, 247, 231, 136, 111,  62],\n",
       "      dtype=int64)"
      ]
     },
     "execution_count": 36,
     "metadata": {},
     "output_type": "execute_result"
    }
   ],
   "source": [
    "df1 = df.set_index('heroe').join(personajes[['Alias', 'id']].set_index('Alias')).reset_index()\n",
    "\n",
    "df1['id'].unique()"
   ]
  },
  {
   "cell_type": "code",
   "execution_count": 38,
   "id": "7069975d",
   "metadata": {},
   "outputs": [
    {
     "data": {
      "text/html": [
       "<div>\n",
       "<style scoped>\n",
       "    .dataframe tbody tr th:only-of-type {\n",
       "        vertical-align: middle;\n",
       "    }\n",
       "\n",
       "    .dataframe tbody tr th {\n",
       "        vertical-align: top;\n",
       "    }\n",
       "\n",
       "    .dataframe thead th {\n",
       "        text-align: right;\n",
       "    }\n",
       "</style>\n",
       "<table border=\"1\" class=\"dataframe\">\n",
       "  <thead>\n",
       "    <tr style=\"text-align: right;\">\n",
       "      <th></th>\n",
       "      <th>Alias</th>\n",
       "      <th>resourceURI</th>\n",
       "      <th>name</th>\n",
       "      <th>id_personaje</th>\n",
       "    </tr>\n",
       "  </thead>\n",
       "  <tbody>\n",
       "    <tr>\n",
       "      <th>0</th>\n",
       "      <td>Ant-man</td>\n",
       "      <td>http://gateway.marvel.com/v1/public/comics/98659</td>\n",
       "      <td>Ant-Man (2022) #2</td>\n",
       "      <td>134</td>\n",
       "    </tr>\n",
       "    <tr>\n",
       "      <th>1</th>\n",
       "      <td>Ant-man</td>\n",
       "      <td>http://gateway.marvel.com/v1/public/comics/98660</td>\n",
       "      <td>Ant-Man (2022) #3</td>\n",
       "      <td>134</td>\n",
       "    </tr>\n",
       "    <tr>\n",
       "      <th>2</th>\n",
       "      <td>Ant-man</td>\n",
       "      <td>http://gateway.marvel.com/v1/public/comics/36765</td>\n",
       "      <td>Ant-Man &amp; the Wasp (2010) #1</td>\n",
       "      <td>134</td>\n",
       "    </tr>\n",
       "    <tr>\n",
       "      <th>3</th>\n",
       "      <td>Ant-man</td>\n",
       "      <td>http://gateway.marvel.com/v1/public/comics/36764</td>\n",
       "      <td>Ant-Man &amp; the Wasp (2010) #2</td>\n",
       "      <td>134</td>\n",
       "    </tr>\n",
       "    <tr>\n",
       "      <th>4</th>\n",
       "      <td>Ant-man</td>\n",
       "      <td>http://gateway.marvel.com/v1/public/comics/36763</td>\n",
       "      <td>Ant-Man &amp; the Wasp (2010) #3</td>\n",
       "      <td>134</td>\n",
       "    </tr>\n",
       "    <tr>\n",
       "      <th>...</th>\n",
       "      <td>...</td>\n",
       "      <td>...</td>\n",
       "      <td>...</td>\n",
       "      <td>...</td>\n",
       "    </tr>\n",
       "    <tr>\n",
       "      <th>242</th>\n",
       "      <td>Thor</td>\n",
       "      <td>http://gateway.marvel.com/v1/public/comics/16904</td>\n",
       "      <td>Amazing Spider-Man Annual (1964) #3</td>\n",
       "      <td>62</td>\n",
       "    </tr>\n",
       "    <tr>\n",
       "      <th>243</th>\n",
       "      <td>Thor</td>\n",
       "      <td>http://gateway.marvel.com/v1/public/comics/16890</td>\n",
       "      <td>Amazing Spider-Man Annual (1964) #16</td>\n",
       "      <td>62</td>\n",
       "    </tr>\n",
       "    <tr>\n",
       "      <th>244</th>\n",
       "      <td>Thor</td>\n",
       "      <td>http://gateway.marvel.com/v1/public/comics/1262</td>\n",
       "      <td>Amazing Spider-Man Vol. 6 (Trade Paperback)</td>\n",
       "      <td>62</td>\n",
       "    </tr>\n",
       "    <tr>\n",
       "      <th>245</th>\n",
       "      <td>Thor</td>\n",
       "      <td>http://gateway.marvel.com/v1/public/comics/39896</td>\n",
       "      <td>Art of Marvel Studios TPB Slipcase (Hardcover)</td>\n",
       "      <td>62</td>\n",
       "    </tr>\n",
       "    <tr>\n",
       "      <th>246</th>\n",
       "      <td>Thor</td>\n",
       "      <td>http://gateway.marvel.com/v1/public/comics/32769</td>\n",
       "      <td>Astonishing Thor (2010) #1</td>\n",
       "      <td>62</td>\n",
       "    </tr>\n",
       "  </tbody>\n",
       "</table>\n",
       "<p>247 rows × 4 columns</p>\n",
       "</div>"
      ],
      "text/plain": [
       "       Alias                                       resourceURI  \\\n",
       "0    Ant-man  http://gateway.marvel.com/v1/public/comics/98659   \n",
       "1    Ant-man  http://gateway.marvel.com/v1/public/comics/98660   \n",
       "2    Ant-man  http://gateway.marvel.com/v1/public/comics/36765   \n",
       "3    Ant-man  http://gateway.marvel.com/v1/public/comics/36764   \n",
       "4    Ant-man  http://gateway.marvel.com/v1/public/comics/36763   \n",
       "..       ...                                               ...   \n",
       "242     Thor  http://gateway.marvel.com/v1/public/comics/16904   \n",
       "243     Thor  http://gateway.marvel.com/v1/public/comics/16890   \n",
       "244     Thor   http://gateway.marvel.com/v1/public/comics/1262   \n",
       "245     Thor  http://gateway.marvel.com/v1/public/comics/39896   \n",
       "246     Thor  http://gateway.marvel.com/v1/public/comics/32769   \n",
       "\n",
       "                                               name  id_personaje  \n",
       "0                                 Ant-Man (2022) #2           134  \n",
       "1                                 Ant-Man (2022) #3           134  \n",
       "2                      Ant-Man & the Wasp (2010) #1           134  \n",
       "3                      Ant-Man & the Wasp (2010) #2           134  \n",
       "4                      Ant-Man & the Wasp (2010) #3           134  \n",
       "..                                              ...           ...  \n",
       "242             Amazing Spider-Man Annual (1964) #3            62  \n",
       "243            Amazing Spider-Man Annual (1964) #16            62  \n",
       "244     Amazing Spider-Man Vol. 6 (Trade Paperback)            62  \n",
       "245  Art of Marvel Studios TPB Slipcase (Hardcover)            62  \n",
       "246                      Astonishing Thor (2010) #1            62  \n",
       "\n",
       "[247 rows x 4 columns]"
      ]
     },
     "execution_count": 38,
     "metadata": {},
     "output_type": "execute_result"
    }
   ],
   "source": [
    "df1 = df1.rename(columns = {'index': 'Alias','id':'id_personaje'})\n",
    "df1"
   ]
  },
  {
   "cell_type": "code",
   "execution_count": 40,
   "id": "8bf4c855",
   "metadata": {},
   "outputs": [],
   "source": [
    "df1.to_csv('../data/tablas/comic.csv', index = False)"
   ]
  },
  {
   "cell_type": "code",
   "execution_count": null,
   "id": "7a05795d",
   "metadata": {},
   "outputs": [],
   "source": []
  }
 ],
 "metadata": {
  "kernelspec": {
   "display_name": "Python 3 (ipykernel)",
   "language": "python",
   "name": "python3"
  },
  "language_info": {
   "codemirror_mode": {
    "name": "ipython",
    "version": 3
   },
   "file_extension": ".py",
   "mimetype": "text/x-python",
   "name": "python",
   "nbconvert_exporter": "python",
   "pygments_lexer": "ipython3",
   "version": "3.9.12"
  }
 },
 "nbformat": 4,
 "nbformat_minor": 5
}
