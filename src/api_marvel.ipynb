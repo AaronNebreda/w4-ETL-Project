{
 "cells": [
  {
   "cell_type": "code",
   "execution_count": 8,
   "id": "11221b8c",
   "metadata": {},
   "outputs": [],
   "source": [
    "import json\n",
    "import requests\n",
    "import pandas as pd"
   ]
  },
  {
   "cell_type": "code",
   "execution_count": 6,
   "id": "7d231d60",
   "metadata": {},
   "outputs": [],
   "source": [
    "## %pip install marvel"
   ]
  },
  {
   "cell_type": "code",
   "execution_count": 16,
   "id": "a6f79cda",
   "metadata": {},
   "outputs": [],
   "source": [
    "url='https://developer.marvel.com/'\n",
    "\n",
    "#header={'Authorization': 'token ' + contras}\n",
    "\n",
    "res=requests.get(url)"
   ]
  },
  {
   "cell_type": "code",
   "execution_count": 17,
   "id": "bf0485f7",
   "metadata": {},
   "outputs": [
    {
     "data": {
      "text/plain": [
       "<Response [200]>"
      ]
     },
     "execution_count": 17,
     "metadata": {},
     "output_type": "execute_result"
    }
   ],
   "source": [
    "res"
   ]
  },
  {
   "cell_type": "code",
   "execution_count": 18,
   "id": "71f0af6c",
   "metadata": {},
   "outputs": [],
   "source": [
    "url='http://developer.marvel.com/v1/public/characters?ts=1&apikey=f1c15480678d2cada97fa7a7ef86e69e&hash=49df307680bbf08584e5a449262fed1c7889e6ec'\n",
    "#header={'Authorization': 'token ' + contras}\n",
    "\n",
    "res=requests.get(url)"
   ]
  },
  {
   "cell_type": "code",
   "execution_count": 21,
   "id": "5988c530",
   "metadata": {},
   "outputs": [
    {
     "data": {
      "text/plain": [
       "<Response [200]>"
      ]
     },
     "execution_count": 21,
     "metadata": {},
     "output_type": "execute_result"
    }
   ],
   "source": [
    "res"
   ]
  },
  {
   "cell_type": "code",
   "execution_count": 22,
   "id": "03676604",
   "metadata": {},
   "outputs": [
    {
     "data": {
      "text/plain": [
       "'<!DOCTYPE html>\\n<!--[if IE 8]> <html class=\"lt-ie9 juggernaut  grid_940\"> <![endif]-->\\n<!--[if gt IE 8]><!--> <html class=\"juggernaut  grid_940\"> <!--<![endif]-->\\n\\n<head>\\n\\n\\n<script type=\"text/javascript\">\\n// <![CDATA[\\n  var URLs = {\\n    \\'login\\':  \\'https://www.marvel.com/signin?referer=http%3A%2F%2Fwww.marvel.com\\',\\n    \\'signup\\': \\'https://www.marvel.com/register?referer=http%3A%2F%2Fwww.marvel.com\\',\\n    \\'comicReader\\': \\'\\',\\n    \\'rpxWidgetUrl\\': \\'http://widget-cdn.rpxnow.com/js/lib/forge.marvel.com/wi'"
      ]
     },
     "execution_count": 22,
     "metadata": {},
     "output_type": "execute_result"
    }
   ],
   "source": [
    "res.text[0:500]"
   ]
  },
  {
   "cell_type": "code",
   "execution_count": 47,
   "id": "4873ebc2",
   "metadata": {},
   "outputs": [],
   "source": [
    "\n",
    "\n",
    "        \n",
    "url='https://gateway.marvel.com:443/v1/public/characters?name=Thor&ts=20&apikey=f1c15480678d2cada97fa7a7ef86e69e&hash=49df307680bbf08584e5a449262fed1c7889e6ec'\n",
    "#header={'Authorization': 'token ' + contras}\n",
    "\n",
    "res=requests.get(url)"
   ]
  },
  {
   "cell_type": "code",
   "execution_count": 48,
   "id": "8d18f0f0",
   "metadata": {},
   "outputs": [
    {
     "data": {
      "text/plain": [
       "<Response [401]>"
      ]
     },
     "execution_count": 48,
     "metadata": {},
     "output_type": "execute_result"
    }
   ],
   "source": [
    "res"
   ]
  },
  {
   "cell_type": "code",
   "execution_count": 2,
   "id": "edb32d19",
   "metadata": {},
   "outputs": [],
   "source": [
    "from marvel import Marvel "
   ]
  },
  {
   "cell_type": "code",
   "execution_count": 11,
   "id": "cb43d98e",
   "metadata": {},
   "outputs": [],
   "source": [
    "protagonistas = pd.read_csv('../data/protas.csv')"
   ]
  },
  {
   "cell_type": "code",
   "execution_count": 57,
   "id": "d397fcc4",
   "metadata": {},
   "outputs": [
    {
     "data": {
      "text/html": [
       "<div>\n",
       "<style scoped>\n",
       "    .dataframe tbody tr th:only-of-type {\n",
       "        vertical-align: middle;\n",
       "    }\n",
       "\n",
       "    .dataframe tbody tr th {\n",
       "        vertical-align: top;\n",
       "    }\n",
       "\n",
       "    .dataframe thead th {\n",
       "        text-align: right;\n",
       "    }\n",
       "</style>\n",
       "<table border=\"1\" class=\"dataframe\">\n",
       "  <thead>\n",
       "    <tr style=\"text-align: right;\">\n",
       "      <th></th>\n",
       "      <th>personaje</th>\n",
       "      <th>orden</th>\n",
       "      <th>cuenta</th>\n",
       "      <th>Alternate Name</th>\n",
       "    </tr>\n",
       "  </thead>\n",
       "  <tbody>\n",
       "    <tr>\n",
       "      <th>0</th>\n",
       "      <td>Tony Stark</td>\n",
       "      <td>0</td>\n",
       "      <td>9</td>\n",
       "      <td>Iron Man</td>\n",
       "    </tr>\n",
       "    <tr>\n",
       "      <th>1</th>\n",
       "      <td>Peter Parker</td>\n",
       "      <td>0</td>\n",
       "      <td>8</td>\n",
       "      <td>Spider-Man</td>\n",
       "    </tr>\n",
       "    <tr>\n",
       "      <th>2</th>\n",
       "      <td>Natasha Romanoff</td>\n",
       "      <td>0</td>\n",
       "      <td>7</td>\n",
       "      <td>Black Widow</td>\n",
       "    </tr>\n",
       "    <tr>\n",
       "      <th>3</th>\n",
       "      <td>Steve Rogers</td>\n",
       "      <td>0</td>\n",
       "      <td>7</td>\n",
       "      <td>Captain America</td>\n",
       "    </tr>\n",
       "    <tr>\n",
       "      <th>4</th>\n",
       "      <td>Thor</td>\n",
       "      <td>0</td>\n",
       "      <td>7</td>\n",
       "      <td>Thor</td>\n",
       "    </tr>\n",
       "    <tr>\n",
       "      <th>5</th>\n",
       "      <td>Bruce Banner</td>\n",
       "      <td>0</td>\n",
       "      <td>6</td>\n",
       "      <td>Hulk</td>\n",
       "    </tr>\n",
       "    <tr>\n",
       "      <th>6</th>\n",
       "      <td>Stephen Strange</td>\n",
       "      <td>0</td>\n",
       "      <td>5</td>\n",
       "      <td>Doctor Strange</td>\n",
       "    </tr>\n",
       "    <tr>\n",
       "      <th>7</th>\n",
       "      <td>Scott Lang</td>\n",
       "      <td>0</td>\n",
       "      <td>4</td>\n",
       "      <td>Ant-man</td>\n",
       "    </tr>\n",
       "    <tr>\n",
       "      <th>8</th>\n",
       "      <td>T'Challa</td>\n",
       "      <td>0</td>\n",
       "      <td>4</td>\n",
       "      <td>Black Panther</td>\n",
       "    </tr>\n",
       "    <tr>\n",
       "      <th>9</th>\n",
       "      <td>Carol Danvers</td>\n",
       "      <td>0</td>\n",
       "      <td>2</td>\n",
       "      <td>Captain Marvel</td>\n",
       "    </tr>\n",
       "    <tr>\n",
       "      <th>10</th>\n",
       "      <td>Peter Quill</td>\n",
       "      <td>0</td>\n",
       "      <td>2</td>\n",
       "      <td>Star Lord</td>\n",
       "    </tr>\n",
       "    <tr>\n",
       "      <th>11</th>\n",
       "      <td>Sersi</td>\n",
       "      <td>0</td>\n",
       "      <td>1</td>\n",
       "      <td>Sersi</td>\n",
       "    </tr>\n",
       "    <tr>\n",
       "      <th>12</th>\n",
       "      <td>Shang-Chi</td>\n",
       "      <td>0</td>\n",
       "      <td>1</td>\n",
       "      <td>Shang-Chi</td>\n",
       "    </tr>\n",
       "  </tbody>\n",
       "</table>\n",
       "</div>"
      ],
      "text/plain": [
       "           personaje  orden  cuenta   Alternate Name\n",
       "0         Tony Stark      0       9         Iron Man\n",
       "1       Peter Parker      0       8       Spider-Man\n",
       "2   Natasha Romanoff      0       7      Black Widow\n",
       "3       Steve Rogers      0       7  Captain America\n",
       "4               Thor      0       7             Thor\n",
       "5       Bruce Banner      0       6             Hulk\n",
       "6    Stephen Strange      0       5   Doctor Strange\n",
       "7         Scott Lang      0       4          Ant-man\n",
       "8           T'Challa      0       4    Black Panther\n",
       "9      Carol Danvers      0       2   Captain Marvel\n",
       "10       Peter Quill      0       2        Star Lord\n",
       "11             Sersi      0       1            Sersi\n",
       "12         Shang-Chi      0       1        Shang-Chi"
      ]
     },
     "execution_count": 57,
     "metadata": {},
     "output_type": "execute_result"
    }
   ],
   "source": [
    "protagonistas"
   ]
  },
  {
   "cell_type": "code",
   "execution_count": 66,
   "id": "5b41f89f",
   "metadata": {},
   "outputs": [],
   "source": [
    "protas = protagonistas['Alternate Name']"
   ]
  },
  {
   "cell_type": "code",
   "execution_count": 71,
   "id": "c1b671f3",
   "metadata": {},
   "outputs": [
    {
     "data": {
      "text/plain": [
       "0            Iron Man\n",
       "1          Spider-Man\n",
       "2         Black Widow\n",
       "3     Captain America\n",
       "4                Thor\n",
       "5                Hulk\n",
       "6      Doctor Strange\n",
       "7             Ant-man\n",
       "8       Black Panther\n",
       "9      Captain Marvel\n",
       "10        Peter Quill\n",
       "11              Sersi\n",
       "12          Shang-Chi\n",
       "Name: Alternate Name, dtype: object"
      ]
     },
     "execution_count": 71,
     "metadata": {},
     "output_type": "execute_result"
    }
   ],
   "source": [
    "protas"
   ]
  },
  {
   "cell_type": "code",
   "execution_count": 70,
   "id": "ecf57d75",
   "metadata": {},
   "outputs": [
    {
     "name": "stderr",
     "output_type": "stream",
     "text": [
      "C:\\Users\\aaron\\AppData\\Local\\Temp\\ipykernel_11292\\3522808105.py:1: SettingWithCopyWarning: \n",
      "A value is trying to be set on a copy of a slice from a DataFrame\n",
      "\n",
      "See the caveats in the documentation: https://pandas.pydata.org/pandas-docs/stable/user_guide/indexing.html#returning-a-view-versus-a-copy\n",
      "  protas[10] = 'Peter Quill'\n"
     ]
    }
   ],
   "source": [
    "protas[10] = 'Peter Quill'"
   ]
  },
  {
   "cell_type": "code",
   "execution_count": 3,
   "id": "781af291",
   "metadata": {},
   "outputs": [],
   "source": [
    "m = Marvel('f1c15480678d2cada97fa7a7ef86e69e', '49df307680bbf08584e5a449262fed1c7889e6ec')"
   ]
  },
  {
   "cell_type": "code",
   "execution_count": 4,
   "id": "bf08f510",
   "metadata": {},
   "outputs": [],
   "source": [
    "char = m.characters"
   ]
  },
  {
   "cell_type": "code",
   "execution_count": 56,
   "id": "bd4a6c01",
   "metadata": {},
   "outputs": [
    {
     "data": {
      "text/plain": [
       "[]"
      ]
     },
     "execution_count": 56,
     "metadata": {},
     "output_type": "execute_result"
    }
   ],
   "source": [
    "char.all(nameStartsWith=protas[10])['data']['results']"
   ]
  },
  {
   "cell_type": "code",
   "execution_count": 76,
   "id": "8043e28e",
   "metadata": {},
   "outputs": [],
   "source": [
    "lista_comic = []\n",
    "for e in protas:\n",
    "    lista = [e]\n",
    "    lista.append(char.all(nameStartsWith=e)['data']['results'][0]['comics']['items'])\n",
    "    lista_comic.append(lista)"
   ]
  },
  {
   "cell_type": "code",
   "execution_count": 79,
   "id": "0844c037",
   "metadata": {},
   "outputs": [
    {
     "data": {
      "text/plain": [
       "['Iron Man',\n",
       " [{'resourceURI': 'http://gateway.marvel.com/v1/public/comics/43495',\n",
       "   'name': 'A+X (2012) #2'},\n",
       "  {'resourceURI': 'http://gateway.marvel.com/v1/public/comics/43506',\n",
       "   'name': 'A+X (2012) #7'},\n",
       "  {'resourceURI': 'http://gateway.marvel.com/v1/public/comics/22461',\n",
       "   'name': 'Adam: Legend of the Blue Marvel (2008) #1'},\n",
       "  {'resourceURI': 'http://gateway.marvel.com/v1/public/comics/22856',\n",
       "   'name': 'Adam: Legend of the Blue Marvel (2008) #2'},\n",
       "  {'resourceURI': 'http://gateway.marvel.com/v1/public/comics/23733',\n",
       "   'name': 'Adam: Legend of the Blue Marvel (2008) #5'},\n",
       "  {'resourceURI': 'http://gateway.marvel.com/v1/public/comics/76359',\n",
       "   'name': 'Aero (2019) #11'},\n",
       "  {'resourceURI': 'http://gateway.marvel.com/v1/public/comics/76360',\n",
       "   'name': 'Aero (2019) #12'},\n",
       "  {'resourceURI': 'http://gateway.marvel.com/v1/public/comics/30090',\n",
       "   'name': 'Age of Heroes (2010) #1'},\n",
       "  {'resourceURI': 'http://gateway.marvel.com/v1/public/comics/33566',\n",
       "   'name': 'Age of Heroes (2010) #2'},\n",
       "  {'resourceURI': 'http://gateway.marvel.com/v1/public/comics/30092',\n",
       "   'name': 'Age of Heroes (2010) #3'},\n",
       "  {'resourceURI': 'http://gateway.marvel.com/v1/public/comics/30093',\n",
       "   'name': 'Age of Heroes (2010) #4'},\n",
       "  {'resourceURI': 'http://gateway.marvel.com/v1/public/comics/67603',\n",
       "   'name': 'Age of Innocence: The Rebirth of Iron Man (1996) #1'},\n",
       "  {'resourceURI': 'http://gateway.marvel.com/v1/public/comics/38524',\n",
       "   'name': 'Age of X: Universe (2011) #1'},\n",
       "  {'resourceURI': 'http://gateway.marvel.com/v1/public/comics/38523',\n",
       "   'name': 'Age of X: Universe (2011) #2'},\n",
       "  {'resourceURI': 'http://gateway.marvel.com/v1/public/comics/21280',\n",
       "   'name': 'All-New Iron Manual (2008) #1'},\n",
       "  {'resourceURI': 'http://gateway.marvel.com/v1/public/comics/55363',\n",
       "   'name': 'All-New, All-Different Avengers (2015) #10'},\n",
       "  {'resourceURI': 'http://gateway.marvel.com/v1/public/comics/55364',\n",
       "   'name': 'All-New, All-Different Avengers (2015) #11'},\n",
       "  {'resourceURI': 'http://gateway.marvel.com/v1/public/comics/12653',\n",
       "   'name': 'Alpha Flight (1983) #113'},\n",
       "  {'resourceURI': 'http://gateway.marvel.com/v1/public/comics/12668',\n",
       "   'name': 'Alpha Flight (1983) #127'},\n",
       "  {'resourceURI': 'http://gateway.marvel.com/v1/public/comics/55311',\n",
       "   'name': 'The Amazing Spider-Man (2017) #13'}]]"
      ]
     },
     "execution_count": 79,
     "metadata": {},
     "output_type": "execute_result"
    }
   ],
   "source": [
    "lista_comic[0]"
   ]
  },
  {
   "cell_type": "code",
   "execution_count": 80,
   "id": "306181c7",
   "metadata": {},
   "outputs": [],
   "source": [
    "cabeceras = ['heroe', 'comics']"
   ]
  },
  {
   "cell_type": "code",
   "execution_count": 93,
   "id": "90a0c2be",
   "metadata": {},
   "outputs": [],
   "source": [
    "df =pd.DataFrame(lista_comic, columns = cabeceras)"
   ]
  },
  {
   "cell_type": "code",
   "execution_count": 97,
   "id": "23a81b5c",
   "metadata": {},
   "outputs": [],
   "source": [
    "df.iloc[10,0] = 'Star Lord'"
   ]
  },
  {
   "cell_type": "code",
   "execution_count": 98,
   "id": "bbfa5704",
   "metadata": {},
   "outputs": [
    {
     "data": {
      "text/html": [
       "<div>\n",
       "<style scoped>\n",
       "    .dataframe tbody tr th:only-of-type {\n",
       "        vertical-align: middle;\n",
       "    }\n",
       "\n",
       "    .dataframe tbody tr th {\n",
       "        vertical-align: top;\n",
       "    }\n",
       "\n",
       "    .dataframe thead th {\n",
       "        text-align: right;\n",
       "    }\n",
       "</style>\n",
       "<table border=\"1\" class=\"dataframe\">\n",
       "  <thead>\n",
       "    <tr style=\"text-align: right;\">\n",
       "      <th></th>\n",
       "      <th>heroe</th>\n",
       "      <th>comics</th>\n",
       "    </tr>\n",
       "  </thead>\n",
       "  <tbody>\n",
       "    <tr>\n",
       "      <th>0</th>\n",
       "      <td>Iron Man</td>\n",
       "      <td>[{'resourceURI': 'http://gateway.marvel.com/v1...</td>\n",
       "    </tr>\n",
       "    <tr>\n",
       "      <th>1</th>\n",
       "      <td>Spider-Man</td>\n",
       "      <td>[{'resourceURI': 'http://gateway.marvel.com/v1...</td>\n",
       "    </tr>\n",
       "    <tr>\n",
       "      <th>2</th>\n",
       "      <td>Black Widow</td>\n",
       "      <td>[{'resourceURI': 'http://gateway.marvel.com/v1...</td>\n",
       "    </tr>\n",
       "    <tr>\n",
       "      <th>3</th>\n",
       "      <td>Captain America</td>\n",
       "      <td>[{'resourceURI': 'http://gateway.marvel.com/v1...</td>\n",
       "    </tr>\n",
       "    <tr>\n",
       "      <th>4</th>\n",
       "      <td>Thor</td>\n",
       "      <td>[{'resourceURI': 'http://gateway.marvel.com/v1...</td>\n",
       "    </tr>\n",
       "    <tr>\n",
       "      <th>5</th>\n",
       "      <td>Hulk</td>\n",
       "      <td>[{'resourceURI': 'http://gateway.marvel.com/v1...</td>\n",
       "    </tr>\n",
       "    <tr>\n",
       "      <th>6</th>\n",
       "      <td>Doctor Strange</td>\n",
       "      <td>[{'resourceURI': 'http://gateway.marvel.com/v1...</td>\n",
       "    </tr>\n",
       "    <tr>\n",
       "      <th>7</th>\n",
       "      <td>Ant-man</td>\n",
       "      <td>[{'resourceURI': 'http://gateway.marvel.com/v1...</td>\n",
       "    </tr>\n",
       "    <tr>\n",
       "      <th>8</th>\n",
       "      <td>Black Panther</td>\n",
       "      <td>[{'resourceURI': 'http://gateway.marvel.com/v1...</td>\n",
       "    </tr>\n",
       "    <tr>\n",
       "      <th>9</th>\n",
       "      <td>Captain Marvel</td>\n",
       "      <td>[{'resourceURI': 'http://gateway.marvel.com/v1...</td>\n",
       "    </tr>\n",
       "    <tr>\n",
       "      <th>10</th>\n",
       "      <td>Star Lord</td>\n",
       "      <td>[{'resourceURI': 'http://gateway.marvel.com/v1...</td>\n",
       "    </tr>\n",
       "    <tr>\n",
       "      <th>11</th>\n",
       "      <td>Sersi</td>\n",
       "      <td>[{'resourceURI': 'http://gateway.marvel.com/v1...</td>\n",
       "    </tr>\n",
       "    <tr>\n",
       "      <th>12</th>\n",
       "      <td>Shang-Chi</td>\n",
       "      <td>[{'resourceURI': 'http://gateway.marvel.com/v1...</td>\n",
       "    </tr>\n",
       "  </tbody>\n",
       "</table>\n",
       "</div>"
      ],
      "text/plain": [
       "              heroe                                             comics\n",
       "0          Iron Man  [{'resourceURI': 'http://gateway.marvel.com/v1...\n",
       "1        Spider-Man  [{'resourceURI': 'http://gateway.marvel.com/v1...\n",
       "2       Black Widow  [{'resourceURI': 'http://gateway.marvel.com/v1...\n",
       "3   Captain America  [{'resourceURI': 'http://gateway.marvel.com/v1...\n",
       "4              Thor  [{'resourceURI': 'http://gateway.marvel.com/v1...\n",
       "5              Hulk  [{'resourceURI': 'http://gateway.marvel.com/v1...\n",
       "6    Doctor Strange  [{'resourceURI': 'http://gateway.marvel.com/v1...\n",
       "7           Ant-man  [{'resourceURI': 'http://gateway.marvel.com/v1...\n",
       "8     Black Panther  [{'resourceURI': 'http://gateway.marvel.com/v1...\n",
       "9    Captain Marvel  [{'resourceURI': 'http://gateway.marvel.com/v1...\n",
       "10        Star Lord  [{'resourceURI': 'http://gateway.marvel.com/v1...\n",
       "11            Sersi  [{'resourceURI': 'http://gateway.marvel.com/v1...\n",
       "12        Shang-Chi  [{'resourceURI': 'http://gateway.marvel.com/v1..."
      ]
     },
     "execution_count": 98,
     "metadata": {},
     "output_type": "execute_result"
    }
   ],
   "source": [
    "df"
   ]
  },
  {
   "cell_type": "code",
   "execution_count": 99,
   "id": "c95fb370",
   "metadata": {},
   "outputs": [],
   "source": [
    "df = df.explode('comics')"
   ]
  },
  {
   "cell_type": "code",
   "execution_count": 102,
   "id": "412729f2",
   "metadata": {},
   "outputs": [
    {
     "data": {
      "text/plain": [
       "(247, 2)"
      ]
     },
     "execution_count": 102,
     "metadata": {},
     "output_type": "execute_result"
    }
   ],
   "source": [
    "df.shape"
   ]
  },
  {
   "cell_type": "code",
   "execution_count": 103,
   "id": "5a32246e",
   "metadata": {},
   "outputs": [],
   "source": [
    "df.reset_index(drop = True, inplace = True)"
   ]
  },
  {
   "cell_type": "code",
   "execution_count": 104,
   "id": "2dee3319",
   "metadata": {},
   "outputs": [
    {
     "data": {
      "text/html": [
       "<div>\n",
       "<style scoped>\n",
       "    .dataframe tbody tr th:only-of-type {\n",
       "        vertical-align: middle;\n",
       "    }\n",
       "\n",
       "    .dataframe tbody tr th {\n",
       "        vertical-align: top;\n",
       "    }\n",
       "\n",
       "    .dataframe thead th {\n",
       "        text-align: right;\n",
       "    }\n",
       "</style>\n",
       "<table border=\"1\" class=\"dataframe\">\n",
       "  <thead>\n",
       "    <tr style=\"text-align: right;\">\n",
       "      <th></th>\n",
       "      <th>heroe</th>\n",
       "      <th>comics</th>\n",
       "    </tr>\n",
       "  </thead>\n",
       "  <tbody>\n",
       "    <tr>\n",
       "      <th>0</th>\n",
       "      <td>Iron Man</td>\n",
       "      <td>{'resourceURI': 'http://gateway.marvel.com/v1/...</td>\n",
       "    </tr>\n",
       "    <tr>\n",
       "      <th>1</th>\n",
       "      <td>Iron Man</td>\n",
       "      <td>{'resourceURI': 'http://gateway.marvel.com/v1/...</td>\n",
       "    </tr>\n",
       "    <tr>\n",
       "      <th>2</th>\n",
       "      <td>Iron Man</td>\n",
       "      <td>{'resourceURI': 'http://gateway.marvel.com/v1/...</td>\n",
       "    </tr>\n",
       "    <tr>\n",
       "      <th>3</th>\n",
       "      <td>Iron Man</td>\n",
       "      <td>{'resourceURI': 'http://gateway.marvel.com/v1/...</td>\n",
       "    </tr>\n",
       "    <tr>\n",
       "      <th>4</th>\n",
       "      <td>Iron Man</td>\n",
       "      <td>{'resourceURI': 'http://gateway.marvel.com/v1/...</td>\n",
       "    </tr>\n",
       "  </tbody>\n",
       "</table>\n",
       "</div>"
      ],
      "text/plain": [
       "      heroe                                             comics\n",
       "0  Iron Man  {'resourceURI': 'http://gateway.marvel.com/v1/...\n",
       "1  Iron Man  {'resourceURI': 'http://gateway.marvel.com/v1/...\n",
       "2  Iron Man  {'resourceURI': 'http://gateway.marvel.com/v1/...\n",
       "3  Iron Man  {'resourceURI': 'http://gateway.marvel.com/v1/...\n",
       "4  Iron Man  {'resourceURI': 'http://gateway.marvel.com/v1/..."
      ]
     },
     "execution_count": 104,
     "metadata": {},
     "output_type": "execute_result"
    }
   ],
   "source": [
    "df.head()"
   ]
  },
  {
   "cell_type": "code",
   "execution_count": 107,
   "id": "43110add",
   "metadata": {},
   "outputs": [
    {
     "data": {
      "text/html": [
       "<div>\n",
       "<style scoped>\n",
       "    .dataframe tbody tr th:only-of-type {\n",
       "        vertical-align: middle;\n",
       "    }\n",
       "\n",
       "    .dataframe tbody tr th {\n",
       "        vertical-align: top;\n",
       "    }\n",
       "\n",
       "    .dataframe thead th {\n",
       "        text-align: right;\n",
       "    }\n",
       "</style>\n",
       "<table border=\"1\" class=\"dataframe\">\n",
       "  <thead>\n",
       "    <tr style=\"text-align: right;\">\n",
       "      <th></th>\n",
       "      <th>resourceURI</th>\n",
       "      <th>name</th>\n",
       "    </tr>\n",
       "  </thead>\n",
       "  <tbody>\n",
       "    <tr>\n",
       "      <th>0</th>\n",
       "      <td>http://gateway.marvel.com/v1/public/comics/43495</td>\n",
       "      <td>A+X (2012) #2</td>\n",
       "    </tr>\n",
       "    <tr>\n",
       "      <th>1</th>\n",
       "      <td>http://gateway.marvel.com/v1/public/comics/43506</td>\n",
       "      <td>A+X (2012) #7</td>\n",
       "    </tr>\n",
       "    <tr>\n",
       "      <th>2</th>\n",
       "      <td>http://gateway.marvel.com/v1/public/comics/22461</td>\n",
       "      <td>Adam: Legend of the Blue Marvel (2008) #1</td>\n",
       "    </tr>\n",
       "    <tr>\n",
       "      <th>3</th>\n",
       "      <td>http://gateway.marvel.com/v1/public/comics/22856</td>\n",
       "      <td>Adam: Legend of the Blue Marvel (2008) #2</td>\n",
       "    </tr>\n",
       "    <tr>\n",
       "      <th>4</th>\n",
       "      <td>http://gateway.marvel.com/v1/public/comics/23733</td>\n",
       "      <td>Adam: Legend of the Blue Marvel (2008) #5</td>\n",
       "    </tr>\n",
       "    <tr>\n",
       "      <th>...</th>\n",
       "      <td>...</td>\n",
       "      <td>...</td>\n",
       "    </tr>\n",
       "    <tr>\n",
       "      <th>242</th>\n",
       "      <td>http://gateway.marvel.com/v1/public/comics/46030</td>\n",
       "      <td>Dark Avengers (2012) #190</td>\n",
       "    </tr>\n",
       "    <tr>\n",
       "      <th>243</th>\n",
       "      <td>http://gateway.marvel.com/v1/public/comics/50533</td>\n",
       "      <td>Deadly Hands of Kung Fu (2014) #1</td>\n",
       "    </tr>\n",
       "    <tr>\n",
       "      <th>244</th>\n",
       "      <td>http://gateway.marvel.com/v1/public/comics/50534</td>\n",
       "      <td>Deadly Hands of Kung Fu (2014) #2</td>\n",
       "    </tr>\n",
       "    <tr>\n",
       "      <th>245</th>\n",
       "      <td>http://gateway.marvel.com/v1/public/comics/50535</td>\n",
       "      <td>Deadly Hands of Kung Fu (2014) #3</td>\n",
       "    </tr>\n",
       "    <tr>\n",
       "      <th>246</th>\n",
       "      <td>http://gateway.marvel.com/v1/public/comics/50536</td>\n",
       "      <td>Deadly Hands of Kung Fu (2014) #4</td>\n",
       "    </tr>\n",
       "  </tbody>\n",
       "</table>\n",
       "<p>247 rows × 2 columns</p>\n",
       "</div>"
      ],
      "text/plain": [
       "                                          resourceURI  \\\n",
       "0    http://gateway.marvel.com/v1/public/comics/43495   \n",
       "1    http://gateway.marvel.com/v1/public/comics/43506   \n",
       "2    http://gateway.marvel.com/v1/public/comics/22461   \n",
       "3    http://gateway.marvel.com/v1/public/comics/22856   \n",
       "4    http://gateway.marvel.com/v1/public/comics/23733   \n",
       "..                                                ...   \n",
       "242  http://gateway.marvel.com/v1/public/comics/46030   \n",
       "243  http://gateway.marvel.com/v1/public/comics/50533   \n",
       "244  http://gateway.marvel.com/v1/public/comics/50534   \n",
       "245  http://gateway.marvel.com/v1/public/comics/50535   \n",
       "246  http://gateway.marvel.com/v1/public/comics/50536   \n",
       "\n",
       "                                          name  \n",
       "0                                A+X (2012) #2  \n",
       "1                                A+X (2012) #7  \n",
       "2    Adam: Legend of the Blue Marvel (2008) #1  \n",
       "3    Adam: Legend of the Blue Marvel (2008) #2  \n",
       "4    Adam: Legend of the Blue Marvel (2008) #5  \n",
       "..                                         ...  \n",
       "242                  Dark Avengers (2012) #190  \n",
       "243          Deadly Hands of Kung Fu (2014) #1  \n",
       "244          Deadly Hands of Kung Fu (2014) #2  \n",
       "245          Deadly Hands of Kung Fu (2014) #3  \n",
       "246          Deadly Hands of Kung Fu (2014) #4  \n",
       "\n",
       "[247 rows x 2 columns]"
      ]
     },
     "execution_count": 107,
     "metadata": {},
     "output_type": "execute_result"
    }
   ],
   "source": [
    "pd.json_normalize(df.comics)"
   ]
  },
  {
   "cell_type": "code",
   "execution_count": 109,
   "id": "6b2e7e77",
   "metadata": {},
   "outputs": [],
   "source": [
    "df = df.join(pd.json_normalize(df.comics))"
   ]
  },
  {
   "cell_type": "code",
   "execution_count": 112,
   "id": "8623cc0a",
   "metadata": {},
   "outputs": [],
   "source": [
    "df = df.drop(columns= 'comics')"
   ]
  },
  {
   "cell_type": "code",
   "execution_count": 113,
   "id": "784f3dfd",
   "metadata": {},
   "outputs": [
    {
     "data": {
      "text/html": [
       "<div>\n",
       "<style scoped>\n",
       "    .dataframe tbody tr th:only-of-type {\n",
       "        vertical-align: middle;\n",
       "    }\n",
       "\n",
       "    .dataframe tbody tr th {\n",
       "        vertical-align: top;\n",
       "    }\n",
       "\n",
       "    .dataframe thead th {\n",
       "        text-align: right;\n",
       "    }\n",
       "</style>\n",
       "<table border=\"1\" class=\"dataframe\">\n",
       "  <thead>\n",
       "    <tr style=\"text-align: right;\">\n",
       "      <th></th>\n",
       "      <th>heroe</th>\n",
       "      <th>resourceURI</th>\n",
       "      <th>name</th>\n",
       "    </tr>\n",
       "  </thead>\n",
       "  <tbody>\n",
       "    <tr>\n",
       "      <th>0</th>\n",
       "      <td>Iron Man</td>\n",
       "      <td>http://gateway.marvel.com/v1/public/comics/43495</td>\n",
       "      <td>A+X (2012) #2</td>\n",
       "    </tr>\n",
       "    <tr>\n",
       "      <th>1</th>\n",
       "      <td>Iron Man</td>\n",
       "      <td>http://gateway.marvel.com/v1/public/comics/43506</td>\n",
       "      <td>A+X (2012) #7</td>\n",
       "    </tr>\n",
       "    <tr>\n",
       "      <th>2</th>\n",
       "      <td>Iron Man</td>\n",
       "      <td>http://gateway.marvel.com/v1/public/comics/22461</td>\n",
       "      <td>Adam: Legend of the Blue Marvel (2008) #1</td>\n",
       "    </tr>\n",
       "    <tr>\n",
       "      <th>3</th>\n",
       "      <td>Iron Man</td>\n",
       "      <td>http://gateway.marvel.com/v1/public/comics/22856</td>\n",
       "      <td>Adam: Legend of the Blue Marvel (2008) #2</td>\n",
       "    </tr>\n",
       "    <tr>\n",
       "      <th>4</th>\n",
       "      <td>Iron Man</td>\n",
       "      <td>http://gateway.marvel.com/v1/public/comics/23733</td>\n",
       "      <td>Adam: Legend of the Blue Marvel (2008) #5</td>\n",
       "    </tr>\n",
       "    <tr>\n",
       "      <th>...</th>\n",
       "      <td>...</td>\n",
       "      <td>...</td>\n",
       "      <td>...</td>\n",
       "    </tr>\n",
       "    <tr>\n",
       "      <th>242</th>\n",
       "      <td>Shang-Chi</td>\n",
       "      <td>http://gateway.marvel.com/v1/public/comics/46030</td>\n",
       "      <td>Dark Avengers (2012) #190</td>\n",
       "    </tr>\n",
       "    <tr>\n",
       "      <th>243</th>\n",
       "      <td>Shang-Chi</td>\n",
       "      <td>http://gateway.marvel.com/v1/public/comics/50533</td>\n",
       "      <td>Deadly Hands of Kung Fu (2014) #1</td>\n",
       "    </tr>\n",
       "    <tr>\n",
       "      <th>244</th>\n",
       "      <td>Shang-Chi</td>\n",
       "      <td>http://gateway.marvel.com/v1/public/comics/50534</td>\n",
       "      <td>Deadly Hands of Kung Fu (2014) #2</td>\n",
       "    </tr>\n",
       "    <tr>\n",
       "      <th>245</th>\n",
       "      <td>Shang-Chi</td>\n",
       "      <td>http://gateway.marvel.com/v1/public/comics/50535</td>\n",
       "      <td>Deadly Hands of Kung Fu (2014) #3</td>\n",
       "    </tr>\n",
       "    <tr>\n",
       "      <th>246</th>\n",
       "      <td>Shang-Chi</td>\n",
       "      <td>http://gateway.marvel.com/v1/public/comics/50536</td>\n",
       "      <td>Deadly Hands of Kung Fu (2014) #4</td>\n",
       "    </tr>\n",
       "  </tbody>\n",
       "</table>\n",
       "<p>247 rows × 3 columns</p>\n",
       "</div>"
      ],
      "text/plain": [
       "         heroe                                       resourceURI  \\\n",
       "0     Iron Man  http://gateway.marvel.com/v1/public/comics/43495   \n",
       "1     Iron Man  http://gateway.marvel.com/v1/public/comics/43506   \n",
       "2     Iron Man  http://gateway.marvel.com/v1/public/comics/22461   \n",
       "3     Iron Man  http://gateway.marvel.com/v1/public/comics/22856   \n",
       "4     Iron Man  http://gateway.marvel.com/v1/public/comics/23733   \n",
       "..         ...                                               ...   \n",
       "242  Shang-Chi  http://gateway.marvel.com/v1/public/comics/46030   \n",
       "243  Shang-Chi  http://gateway.marvel.com/v1/public/comics/50533   \n",
       "244  Shang-Chi  http://gateway.marvel.com/v1/public/comics/50534   \n",
       "245  Shang-Chi  http://gateway.marvel.com/v1/public/comics/50535   \n",
       "246  Shang-Chi  http://gateway.marvel.com/v1/public/comics/50536   \n",
       "\n",
       "                                          name  \n",
       "0                                A+X (2012) #2  \n",
       "1                                A+X (2012) #7  \n",
       "2    Adam: Legend of the Blue Marvel (2008) #1  \n",
       "3    Adam: Legend of the Blue Marvel (2008) #2  \n",
       "4    Adam: Legend of the Blue Marvel (2008) #5  \n",
       "..                                         ...  \n",
       "242                  Dark Avengers (2012) #190  \n",
       "243          Deadly Hands of Kung Fu (2014) #1  \n",
       "244          Deadly Hands of Kung Fu (2014) #2  \n",
       "245          Deadly Hands of Kung Fu (2014) #3  \n",
       "246          Deadly Hands of Kung Fu (2014) #4  \n",
       "\n",
       "[247 rows x 3 columns]"
      ]
     },
     "execution_count": 113,
     "metadata": {},
     "output_type": "execute_result"
    }
   ],
   "source": [
    "df"
   ]
  },
  {
   "cell_type": "code",
   "execution_count": 114,
   "id": "8bf4c855",
   "metadata": {},
   "outputs": [],
   "source": [
    "df.to_csv('../data/tablas/comics.csv', index = False)"
   ]
  },
  {
   "cell_type": "code",
   "execution_count": null,
   "id": "7a05795d",
   "metadata": {},
   "outputs": [],
   "source": []
  }
 ],
 "metadata": {
  "kernelspec": {
   "display_name": "Python 3 (ipykernel)",
   "language": "python",
   "name": "python3"
  },
  "language_info": {
   "codemirror_mode": {
    "name": "ipython",
    "version": 3
   },
   "file_extension": ".py",
   "mimetype": "text/x-python",
   "name": "python",
   "nbconvert_exporter": "python",
   "pygments_lexer": "ipython3",
   "version": "3.9.12"
  }
 },
 "nbformat": 4,
 "nbformat_minor": 5
}
