{
 "cells": [
  {
   "cell_type": "code",
   "execution_count": 3,
   "id": "e4fdb7a6",
   "metadata": {},
   "outputs": [],
   "source": [
    "import pandas as pd\n",
    "import numpy as np\n",
    "import re\n",
    "\n",
    "pd.set_option('display.max_columns', None)   # mostrar todas las columnas del df\n",
    "pd.set_option('display.max_rows', None)   # mostrar todas las filas del df\n",
    "\n",
    "from selenium import webdriver\n",
    "from selenium.webdriver.chrome.options import Options\n",
    "from webdriver_manager.chrome import ChromeDriverManager\n",
    "from selenium.webdriver.common.by import By\n",
    "import time\n",
    "import warnings\n",
    "warnings.filterwarnings('ignore')"
   ]
  },
  {
   "cell_type": "code",
   "execution_count": 4,
   "id": "0a2ae184",
   "metadata": {},
   "outputs": [],
   "source": [
    "df1=pd.read_csv('../data/mcu_box_office.csv')"
   ]
  },
  {
   "cell_type": "code",
   "execution_count": 5,
   "id": "cb716539",
   "metadata": {},
   "outputs": [
    {
     "data": {
      "text/html": [
       "<div>\n",
       "<style scoped>\n",
       "    .dataframe tbody tr th:only-of-type {\n",
       "        vertical-align: middle;\n",
       "    }\n",
       "\n",
       "    .dataframe tbody tr th {\n",
       "        vertical-align: top;\n",
       "    }\n",
       "\n",
       "    .dataframe thead th {\n",
       "        text-align: right;\n",
       "    }\n",
       "</style>\n",
       "<table border=\"1\" class=\"dataframe\">\n",
       "  <thead>\n",
       "    <tr style=\"text-align: right;\">\n",
       "      <th></th>\n",
       "      <th>movie_title</th>\n",
       "      <th>mcu_phase</th>\n",
       "      <th>release_date</th>\n",
       "      <th>tomato_meter</th>\n",
       "      <th>audience_score</th>\n",
       "      <th>movie_duration</th>\n",
       "      <th>production_budget</th>\n",
       "      <th>opening_weekend</th>\n",
       "      <th>domestic_box_office</th>\n",
       "      <th>worldwide_box_office</th>\n",
       "    </tr>\n",
       "  </thead>\n",
       "  <tbody>\n",
       "    <tr>\n",
       "      <th>0</th>\n",
       "      <td>Iron Man</td>\n",
       "      <td>1</td>\n",
       "      <td>5/2/2008</td>\n",
       "      <td>94</td>\n",
       "      <td>91</td>\n",
       "      <td>126</td>\n",
       "      <td>186,000,000</td>\n",
       "      <td>102,118,668</td>\n",
       "      <td>318,604,126</td>\n",
       "      <td>585,171,547</td>\n",
       "    </tr>\n",
       "    <tr>\n",
       "      <th>1</th>\n",
       "      <td>The Incredible Hulk</td>\n",
       "      <td>1</td>\n",
       "      <td>6/13/2008</td>\n",
       "      <td>67</td>\n",
       "      <td>70</td>\n",
       "      <td>112</td>\n",
       "      <td>137,500,000</td>\n",
       "      <td>55,414,050</td>\n",
       "      <td>134,806,913</td>\n",
       "      <td>265,573,859</td>\n",
       "    </tr>\n",
       "    <tr>\n",
       "      <th>2</th>\n",
       "      <td>Iron Man 2</td>\n",
       "      <td>1</td>\n",
       "      <td>5/7/2010</td>\n",
       "      <td>72</td>\n",
       "      <td>71</td>\n",
       "      <td>124</td>\n",
       "      <td>170,000,000</td>\n",
       "      <td>128,122,480</td>\n",
       "      <td>312,433,331</td>\n",
       "      <td>621,156,389</td>\n",
       "    </tr>\n",
       "    <tr>\n",
       "      <th>3</th>\n",
       "      <td>Thor</td>\n",
       "      <td>1</td>\n",
       "      <td>5/6/2011</td>\n",
       "      <td>77</td>\n",
       "      <td>76</td>\n",
       "      <td>113</td>\n",
       "      <td>150,000,000</td>\n",
       "      <td>65,723,338</td>\n",
       "      <td>181,030,624</td>\n",
       "      <td>449,326,618</td>\n",
       "    </tr>\n",
       "    <tr>\n",
       "      <th>4</th>\n",
       "      <td>Captain America: The First Avenger</td>\n",
       "      <td>1</td>\n",
       "      <td>7/22/2011</td>\n",
       "      <td>79</td>\n",
       "      <td>75</td>\n",
       "      <td>124</td>\n",
       "      <td>140,000,000</td>\n",
       "      <td>65,058,524</td>\n",
       "      <td>176,654,505</td>\n",
       "      <td>370,569,776</td>\n",
       "    </tr>\n",
       "  </tbody>\n",
       "</table>\n",
       "</div>"
      ],
      "text/plain": [
       "                          movie_title  mcu_phase release_date  tomato_meter  \\\n",
       "0                            Iron Man          1     5/2/2008            94   \n",
       "1                 The Incredible Hulk          1    6/13/2008            67   \n",
       "2                          Iron Man 2          1     5/7/2010            72   \n",
       "3                                Thor          1     5/6/2011            77   \n",
       "4  Captain America: The First Avenger          1    7/22/2011            79   \n",
       "\n",
       "   audience_score  movie_duration production_budget opening_weekend  \\\n",
       "0              91             126       186,000,000     102,118,668   \n",
       "1              70             112       137,500,000      55,414,050   \n",
       "2              71             124       170,000,000     128,122,480   \n",
       "3              76             113       150,000,000      65,723,338   \n",
       "4              75             124       140,000,000      65,058,524   \n",
       "\n",
       "  domestic_box_office worldwide_box_office  \n",
       "0         318,604,126          585,171,547  \n",
       "1         134,806,913          265,573,859  \n",
       "2         312,433,331          621,156,389  \n",
       "3         181,030,624          449,326,618  \n",
       "4         176,654,505          370,569,776  "
      ]
     },
     "execution_count": 5,
     "metadata": {},
     "output_type": "execute_result"
    }
   ],
   "source": [
    "df1.head()"
   ]
  },
  {
   "cell_type": "code",
   "execution_count": 6,
   "id": "d83e8a53",
   "metadata": {},
   "outputs": [
    {
     "data": {
      "text/html": [
       "<div>\n",
       "<style scoped>\n",
       "    .dataframe tbody tr th:only-of-type {\n",
       "        vertical-align: middle;\n",
       "    }\n",
       "\n",
       "    .dataframe tbody tr th {\n",
       "        vertical-align: top;\n",
       "    }\n",
       "\n",
       "    .dataframe thead th {\n",
       "        text-align: right;\n",
       "    }\n",
       "</style>\n",
       "<table border=\"1\" class=\"dataframe\">\n",
       "  <thead>\n",
       "    <tr style=\"text-align: right;\">\n",
       "      <th></th>\n",
       "      <th>count</th>\n",
       "      <th>mean</th>\n",
       "      <th>std</th>\n",
       "      <th>min</th>\n",
       "      <th>25%</th>\n",
       "      <th>50%</th>\n",
       "      <th>75%</th>\n",
       "      <th>max</th>\n",
       "    </tr>\n",
       "  </thead>\n",
       "  <tbody>\n",
       "    <tr>\n",
       "      <th>mcu_phase</th>\n",
       "      <td>27.0</td>\n",
       "      <td>2.481481</td>\n",
       "      <td>1.014145</td>\n",
       "      <td>1.0</td>\n",
       "      <td>2.0</td>\n",
       "      <td>3.0</td>\n",
       "      <td>3.0</td>\n",
       "      <td>4.0</td>\n",
       "    </tr>\n",
       "    <tr>\n",
       "      <th>tomato_meter</th>\n",
       "      <td>27.0</td>\n",
       "      <td>83.555556</td>\n",
       "      <td>11.112479</td>\n",
       "      <td>47.0</td>\n",
       "      <td>79.0</td>\n",
       "      <td>87.0</td>\n",
       "      <td>91.5</td>\n",
       "      <td>96.0</td>\n",
       "    </tr>\n",
       "    <tr>\n",
       "      <th>audience_score</th>\n",
       "      <td>27.0</td>\n",
       "      <td>83.740741</td>\n",
       "      <td>11.002072</td>\n",
       "      <td>45.0</td>\n",
       "      <td>78.0</td>\n",
       "      <td>87.0</td>\n",
       "      <td>91.0</td>\n",
       "      <td>98.0</td>\n",
       "    </tr>\n",
       "    <tr>\n",
       "      <th>movie_duration</th>\n",
       "      <td>27.0</td>\n",
       "      <td>131.925926</td>\n",
       "      <td>15.531422</td>\n",
       "      <td>111.0</td>\n",
       "      <td>122.5</td>\n",
       "      <td>130.0</td>\n",
       "      <td>138.0</td>\n",
       "      <td>181.0</td>\n",
       "    </tr>\n",
       "  </tbody>\n",
       "</table>\n",
       "</div>"
      ],
      "text/plain": [
       "                count        mean        std    min    25%    50%    75%  \\\n",
       "mcu_phase        27.0    2.481481   1.014145    1.0    2.0    3.0    3.0   \n",
       "tomato_meter     27.0   83.555556  11.112479   47.0   79.0   87.0   91.5   \n",
       "audience_score   27.0   83.740741  11.002072   45.0   78.0   87.0   91.0   \n",
       "movie_duration   27.0  131.925926  15.531422  111.0  122.5  130.0  138.0   \n",
       "\n",
       "                  max  \n",
       "mcu_phase         4.0  \n",
       "tomato_meter     96.0  \n",
       "audience_score   98.0  \n",
       "movie_duration  181.0  "
      ]
     },
     "execution_count": 6,
     "metadata": {},
     "output_type": "execute_result"
    }
   ],
   "source": [
    "df1.describe().T"
   ]
  },
  {
   "cell_type": "code",
   "execution_count": 7,
   "id": "ab10cd00",
   "metadata": {},
   "outputs": [],
   "source": [
    "titulos = df1.movie_title.to_list()"
   ]
  },
  {
   "cell_type": "code",
   "execution_count": 8,
   "id": "0db48a7f",
   "metadata": {},
   "outputs": [
    {
     "data": {
      "text/plain": [
       "['Iron Man',\n",
       " 'The Incredible Hulk',\n",
       " 'Iron Man 2',\n",
       " 'Thor',\n",
       " 'Captain America: The First Avenger',\n",
       " 'The Avengers',\n",
       " 'Iron Man 3',\n",
       " 'Thor: The Dark World',\n",
       " 'Captain America: The Winter Soldier',\n",
       " 'Guardians of the Galaxy',\n",
       " 'Avengers: Age of Ultron',\n",
       " 'Ant-Man',\n",
       " 'Captain America: Civil War',\n",
       " 'Doctor Strange',\n",
       " 'Guardians of the Galaxy Vol. 2',\n",
       " 'Spider-Man: Homecoming',\n",
       " 'Thor: Ragnarok',\n",
       " 'Black Panther',\n",
       " 'Avengers: Infinity War',\n",
       " 'Ant-Man and the Wasp',\n",
       " 'Captain Marvel',\n",
       " 'Avengers: End Game',\n",
       " 'Spider-Man: Far From Home',\n",
       " 'Black Widow',\n",
       " 'Shang-Chi and the Legend of the Ten Rings',\n",
       " 'Eternals',\n",
       " 'Spider-Man: No Way Home']"
      ]
     },
     "execution_count": 8,
     "metadata": {},
     "output_type": "execute_result"
    }
   ],
   "source": [
    "titulos"
   ]
  },
  {
   "cell_type": "code",
   "execution_count": 12,
   "id": "c6a59018",
   "metadata": {},
   "outputs": [],
   "source": [
    "titulos2 =['Ant-Man', 'Black Panther',  'Thor',  'Ant-Man and the Wasp']\n",
    "\n",
    "for e in titulos2:\n",
    "    titulos.remove(e)"
   ]
  },
  {
   "cell_type": "code",
   "execution_count": 13,
   "id": "b9ce74eb",
   "metadata": {},
   "outputs": [
    {
     "data": {
      "text/plain": [
       "['Ant-Man', 'Black Panther', 'Thor', 'Ant-Man and the Wasp']"
      ]
     },
     "execution_count": 13,
     "metadata": {},
     "output_type": "execute_result"
    }
   ],
   "source": [
    "titulos2"
   ]
  },
  {
   "cell_type": "code",
   "execution_count": 14,
   "id": "30e493f2",
   "metadata": {},
   "outputs": [
    {
     "data": {
      "text/plain": [
       "['Iron Man',\n",
       " 'The Incredible Hulk',\n",
       " 'Iron Man 2',\n",
       " 'Captain America: The First Avenger',\n",
       " 'The Avengers',\n",
       " 'Iron Man 3',\n",
       " 'Thor: The Dark World',\n",
       " 'Captain America: The Winter Soldier',\n",
       " 'Guardians of the Galaxy',\n",
       " 'Avengers: Age of Ultron',\n",
       " 'Captain America: Civil War',\n",
       " 'Doctor Strange',\n",
       " 'Guardians of the Galaxy Vol. 2',\n",
       " 'Spider-Man: Homecoming',\n",
       " 'Thor: Ragnarok',\n",
       " 'Avengers: Infinity War',\n",
       " 'Captain Marvel',\n",
       " 'Avengers: End Game',\n",
       " 'Spider-Man: Far From Home',\n",
       " 'Black Widow',\n",
       " 'Shang-Chi and the Legend of the Ten Rings',\n",
       " 'Eternals',\n",
       " 'Spider-Man: No Way Home']"
      ]
     },
     "execution_count": 14,
     "metadata": {},
     "output_type": "execute_result"
    }
   ],
   "source": [
    "titulos"
   ]
  },
  {
   "cell_type": "code",
   "execution_count": 21,
   "id": "728ee091",
   "metadata": {},
   "outputs": [],
   "source": [
    "url = 'https://www.imdb.com/'\n",
    "\n",
    "PATH=ChromeDriverManager().install()   # instala el driver\n",
    "driver=webdriver.Chrome(PATH)         # abre una pestaña de chrome\n",
    "driver.get(url)\n"
   ]
  },
  {
   "cell_type": "code",
   "execution_count": 23,
   "id": "20845c96",
   "metadata": {},
   "outputs": [],
   "source": [
    "buscador=driver.find_element(By.XPATH, '//*[@id=\"suggestion-search\"]')\n",
    "\n",
    "buscador.click()"
   ]
  },
  {
   "cell_type": "code",
   "execution_count": 24,
   "id": "6f1ac5c3",
   "metadata": {},
   "outputs": [],
   "source": [
    "\n",
    "buscador.send_keys(titulos[1])\n",
    "time.sleep(2)\n",
    "buscador.send_keys(\"\\ue015\")\n",
    "time.sleep(2)\n",
    "buscador.send_keys(u'\\ue007')\n",
    "time.sleep(2)"
   ]
  },
  {
   "cell_type": "code",
   "execution_count": 28,
   "id": "581f8da3",
   "metadata": {},
   "outputs": [],
   "source": [
    "rating = driver.find_element(By.CSS_SELECTOR, '#__next > main > div > section.ipc-page-background.ipc-page-background--base.sc-9b716f3b-0.hWwhTB > section > div:nth-child(4) > section > section > div.sc-80d4314-0.fjPRnj > div.sc-db8c1937-0.eGmDjE.sc-80d4314-3.iBtAhY > div > div:nth-child(1) > a > div > div > div.sc-7ab21ed2-0.fAePGh > div.sc-7ab21ed2-2.kYEdvH > span.sc-7ab21ed2-1.jGRxWM')"
   ]
  },
  {
   "cell_type": "code",
   "execution_count": 29,
   "id": "c19988d7",
   "metadata": {},
   "outputs": [
    {
     "data": {
      "text/plain": [
       "'6,6'"
      ]
     },
     "execution_count": 29,
     "metadata": {},
     "output_type": "execute_result"
    }
   ],
   "source": [
    "rating.text"
   ]
  },
  {
   "cell_type": "code",
   "execution_count": 44,
   "id": "e350b5d0",
   "metadata": {},
   "outputs": [
    {
     "data": {
      "text/plain": [
       "'https://www.imdb.com/title/tt0800080/mediaviewer/rm2146527744/?ref_=tt_ov_i'"
      ]
     },
     "execution_count": 44,
     "metadata": {},
     "output_type": "execute_result"
    }
   ],
   "source": [
    "foto = driver.find_element(By.CLASS_NAME, 'ipc-lockup-overlay.ipc-focusable')\n",
    "\n",
    "foto.get_attribute('href')"
   ]
  },
  {
   "cell_type": "code",
   "execution_count": 46,
   "id": "eea359b0",
   "metadata": {},
   "outputs": [
    {
     "data": {
      "text/plain": [
       "'https://www.imdb.com/title/tt0800080/mediaviewer/rm2146527744/?ref_=tt_ov_i'"
      ]
     },
     "execution_count": 46,
     "metadata": {},
     "output_type": "execute_result"
    }
   ],
   "source": [
    "video = driver.find_element(By.CLASS_NAME, 'ipc-lockup-overlay.ipc-focusable')\n",
    "\n",
    "video.get_attribute('href')"
   ]
  },
  {
   "cell_type": "code",
   "execution_count": 25,
   "id": "62bf370d",
   "metadata": {},
   "outputs": [],
   "source": [
    "tab_reparto = driver.find_element(By.CSS_SELECTOR, '#__next > main > div > section.ipc-page-background.ipc-page-background--base.sc-9b716f3b-0.hWwhTB > div > section > div > div.sc-b1d8602f-1.fuYOtZ.ipc-page-grid__item.ipc-page-grid__item--span-2 > section.ipc-page-section.ipc-page-section--base.sc-bfec09a1-0.bzDutS.title-cast.title-cast--movie.celwidget > div.ipc-shoveler.ipc-shoveler--base.ipc-shoveler--page0.title-cast__grid > div.ipc-sub-grid.ipc-sub-grid--page-span-2.ipc-sub-grid--wraps-at-above-l.ipc-shoveler__grid')"
   ]
  },
  {
   "cell_type": "code",
   "execution_count": 26,
   "id": "b05f0427",
   "metadata": {},
   "outputs": [
    {
     "data": {
      "text/plain": [
       "<selenium.webdriver.remote.webelement.WebElement (session=\"848d15f074de0d3352376e9c7649c33d\", element=\"001373c7-45d1-4ee6-bd1c-374532aa33a9\")>"
      ]
     },
     "execution_count": 26,
     "metadata": {},
     "output_type": "execute_result"
    }
   ],
   "source": [
    "tab_reparto"
   ]
  },
  {
   "cell_type": "code",
   "execution_count": 40,
   "id": "1e50897b",
   "metadata": {},
   "outputs": [],
   "source": [
    "reparto = tab_reparto.find_elements(By.CLASS_NAME, 'sc-bfec09a1-7.iDmJtd')"
   ]
  },
  {
   "cell_type": "code",
   "execution_count": 68,
   "id": "a2699839",
   "metadata": {},
   "outputs": [],
   "source": [
    "x1 = [e.text.split('\\n').append(c) for c,e in enumerate(reparto)]"
   ]
  },
  {
   "cell_type": "code",
   "execution_count": 86,
   "id": "e8519e64",
   "metadata": {},
   "outputs": [
    {
     "data": {
      "text/plain": [
       "[['Edward Norton', 'Bruce Banner', 0],\n",
       " ['Liv Tyler', 'Betty Ross', 1],\n",
       " ['Tim Roth', 'Emil Blonsky', 2],\n",
       " ['William Hurt', \"General 'Thunderbolt' Ross\", 3],\n",
       " ['Tim Blake Nelson', 'Samuel Sterns', 4],\n",
       " ['Ty Burrell', 'Leonard', 5],\n",
       " ['Christina Cabot', 'Major Kathleen Sparr', 6],\n",
       " ['Peter Mensah', 'General Joe Greller', 7],\n",
       " ['Lou Ferrigno', 'Voice of The Incredible Hulk', 8],\n",
       " ['Paul Soles', 'Stanley', 9],\n",
       " ['Débora Nascimento', 'Martina', 10],\n",
       " ['Greg Bryk', 'Commando', 11],\n",
       " ['Chris Owens', 'Commando', 12],\n",
       " ['Al Vrkljan', 'Commando(as Alan Vrkljan)', 13],\n",
       " ['Adrian Hein', 'Commando', 14],\n",
       " ['John MacDonald', 'Commando', 15],\n",
       " ['Shaun McComb', 'Helicopter Soldier', 16],\n",
       " ['Simon Wong', 'Grad Student', 17]]"
      ]
     },
     "execution_count": 86,
     "metadata": {},
     "output_type": "execute_result"
    }
   ],
   "source": [
    "lista =[]\n",
    "\n",
    "for c,e in enumerate(reparto):\n",
    "    x = e.text.split('\\n')\n",
    "    x.append(c)\n",
    "    lista.append(x)\n",
    "    \n",
    "lista"
   ]
  },
  {
   "cell_type": "code",
   "execution_count": 35,
   "id": "50b32135",
   "metadata": {},
   "outputs": [
    {
     "data": {
      "text/plain": [
       "['Edward Norton', 'Bruce Banner', 0]"
      ]
     },
     "execution_count": 35,
     "metadata": {},
     "output_type": "execute_result"
    }
   ],
   "source": [
    "z = reparto[0].text.split('\\n')\n",
    "z.append(0)\n",
    "z"
   ]
  },
  {
   "cell_type": "code",
   "execution_count": null,
   "id": "a8cdf942",
   "metadata": {},
   "outputs": [],
   "source": [
    "video = 'https://www.imdb.com/video/vi1726152985/?playlistId=tt0800080&ref_=tt_ov_vi'"
   ]
  },
  {
   "cell_type": "code",
   "execution_count": 96,
   "id": "7cef3bff",
   "metadata": {},
   "outputs": [],
   "source": [
    "def scrap_imdb(lista_pelis):\n",
    "    \n",
    "    scrapeo_imdb = []\n",
    "    pelis_noscrape = []\n",
    "    \n",
    "    url = 'https://www.imdb.com/'\n",
    "\n",
    "    PATH=ChromeDriverManager().install()   # instala el driver\n",
    "    driver=webdriver.Chrome(PATH)         # abre una pestaña de chrome\n",
    "    driver.get(url)\n",
    "    \n",
    "    \n",
    "    for peli in lista_pelis:\n",
    "        \n",
    "        try:\n",
    "        \n",
    "            datos_peli= [peli]\n",
    "            buscador=driver.find_element(By.XPATH, '//*[@id=\"suggestion-search\"]')\n",
    "            buscador.click()\n",
    "\n",
    "            buscador.send_keys(peli)\n",
    "            time.sleep(3)\n",
    "            buscador.send_keys(\"\\ue015\")\n",
    "            time.sleep(3)\n",
    "            buscador.send_keys(u'\\ue007')\n",
    "            time.sleep(3)\n",
    "\n",
    "            rating = driver.find_element(By.CSS_SELECTOR, '#__next > main > div > section.ipc-page-background.ipc-page-background--base.sc-9b716f3b-0.hWwhTB > section > div:nth-child(4) > section > section > div.sc-80d4314-0.fjPRnj > div.sc-db8c1937-0.eGmDjE.sc-80d4314-3.iBtAhY > div > div:nth-child(1) > a > div > div > div.sc-7ab21ed2-0.fAePGh > div.sc-7ab21ed2-2.kYEdvH > span.sc-7ab21ed2-1.jGRxWM')\n",
    "            datos_peli.append(rating.text)\n",
    "\n",
    "            foto = driver.find_element(By.CLASS_NAME, 'ipc-lockup-overlay.ipc-focusable')\n",
    "            foto_peli = foto.get_attribute('href')\n",
    "            datos_peli.append(foto_peli)\n",
    "\n",
    "            video = driver.find_element(By.CLASS_NAME, 'ipc-lockup-overlay.ipc-focusable')\n",
    "            video_trailer = video.get_attribute('href')\n",
    "            datos_peli.append(video_trailer)\n",
    "\n",
    "            tab_reparto = driver.find_element(By.CSS_SELECTOR, '#__next > main > div > section.ipc-page-background.ipc-page-background--base.sc-9b716f3b-0.hWwhTB > div > section > div > div.sc-b1d8602f-1.fuYOtZ.ipc-page-grid__item.ipc-page-grid__item--span-2 > section.ipc-page-section.ipc-page-section--base.sc-bfec09a1-0.bzDutS.title-cast.title-cast--movie.celwidget > div.ipc-shoveler.ipc-shoveler--base.ipc-shoveler--page0.title-cast__grid > div.ipc-sub-grid.ipc-sub-grid--page-span-2.ipc-sub-grid--wraps-at-above-l.ipc-shoveler__grid')\n",
    "            reparto = tab_reparto.find_elements(By.CLASS_NAME, 'sc-bfec09a1-7.iDmJtd')\n",
    "            #lista_reparto = [e.text.split('\\n').append(c) for c, e in enumarate(reparto)]\n",
    "            \n",
    "            lista_reparto =[]\n",
    "            for c,e in enumerate(reparto):\n",
    "                x = e.text.split('\\n')\n",
    "                x.append(c)\n",
    "                lista_reparto.append(x)\n",
    "            \n",
    "            datos_peli.append(lista_reparto)\n",
    "            scrapeo_imdb.append(datos_peli)\n",
    "            \n",
    "        except:\n",
    "            \n",
    "            pelis_noscrape.append(peli)\n",
    "        \n",
    "    driver.close()\n",
    "        \n",
    "    return scrapeo_imdb, pelis_noscrape\n",
    "\n",
    "        \n",
    "    "
   ]
  },
  {
   "cell_type": "code",
   "execution_count": 97,
   "id": "8244c600",
   "metadata": {},
   "outputs": [],
   "source": [
    "imdb = scrap_imdb(titulos)"
   ]
  },
  {
   "cell_type": "code",
   "execution_count": 98,
   "id": "17287ea2",
   "metadata": {},
   "outputs": [
    {
     "data": {
      "text/plain": [
       "[['Iron Man',\n",
       "  '7,9',\n",
       "  'https://www.imdb.com/title/tt0371746/mediaviewer/rm1544850432/?ref_=tt_ov_i',\n",
       "  'https://www.imdb.com/title/tt0371746/mediaviewer/rm1544850432/?ref_=tt_ov_i',\n",
       "  [['Robert Downey Jr.', 'Tony Stark', 0],\n",
       "   ['Gwyneth Paltrow', 'Pepper Potts', 1],\n",
       "   ['Terrence Howard', 'Rhodey', 2],\n",
       "   ['Jeff Bridges', 'Obadiah Stane', 3],\n",
       "   ['Leslie Bibb', 'Christine Everhart', 4],\n",
       "   ['Shaun Toub', 'Yinsen', 5],\n",
       "   ['Faran Tahir', 'Raza', 6],\n",
       "   ['Clark Gregg', 'Agent Coulson', 7],\n",
       "   ['Bill Smitrovich', 'General Gabriel', 8],\n",
       "   ['Sayed Badreya', 'Abu Bakaar', 9],\n",
       "   ['Paul Bettany', 'JARVIS(voz)', 10],\n",
       "   ['Jon Favreau', 'Hogan', 11],\n",
       "   ['Peter Billingsley', 'William Ginter Riva', 12],\n",
       "   ['Tim Guinee', 'Major Allen', 13],\n",
       "   ['Will Lyman', 'Award Ceremony Narrator(voz)', 14],\n",
       "   ['Tom Morello', 'Guard', 15],\n",
       "   ['Marco Khan', 'Guard', 16],\n",
       "   ['Dastan Khalili', 'Guard(as Daston Kalili)', 17]]],\n",
       " ['The Incredible Hulk',\n",
       "  '6,6',\n",
       "  'https://www.imdb.com/title/tt0800080/mediaviewer/rm2146527744/?ref_=tt_ov_i',\n",
       "  'https://www.imdb.com/title/tt0800080/mediaviewer/rm2146527744/?ref_=tt_ov_i',\n",
       "  [['Edward Norton', 'Bruce Banner', 0],\n",
       "   ['Liv Tyler', 'Betty Ross', 1],\n",
       "   ['Tim Roth', 'Emil Blonsky', 2],\n",
       "   ['William Hurt', \"General 'Thunderbolt' Ross\", 3],\n",
       "   ['Tim Blake Nelson', 'Samuel Sterns', 4],\n",
       "   ['Ty Burrell', 'Leonard', 5],\n",
       "   ['Christina Cabot', 'Major Kathleen Sparr', 6],\n",
       "   ['Peter Mensah', 'General Joe Greller', 7],\n",
       "   ['Lou Ferrigno', 'Voice of The Incredible Hulk', 8],\n",
       "   ['Paul Soles', 'Stanley', 9],\n",
       "   ['Débora Nascimento', 'Martina', 10],\n",
       "   ['Greg Bryk', 'Commando', 11],\n",
       "   ['Chris Owens', 'Commando', 12],\n",
       "   ['Al Vrkljan', 'Commando(as Alan Vrkljan)', 13],\n",
       "   ['Adrian Hein', 'Commando', 14],\n",
       "   ['John MacDonald', 'Commando', 15],\n",
       "   ['Shaun McComb', 'Helicopter Soldier', 16],\n",
       "   ['Simon Wong', 'Grad Student', 17]]]]"
      ]
     },
     "execution_count": 98,
     "metadata": {},
     "output_type": "execute_result"
    }
   ],
   "source": [
    "imdb[0][0:2]"
   ]
  },
  {
   "cell_type": "code",
   "execution_count": 99,
   "id": "36fcc19f",
   "metadata": {},
   "outputs": [
    {
     "data": {
      "text/plain": [
       "[]"
      ]
     },
     "execution_count": 99,
     "metadata": {},
     "output_type": "execute_result"
    }
   ],
   "source": [
    "imdb[1]"
   ]
  },
  {
   "cell_type": "code",
   "execution_count": 87,
   "id": "1e7729a6",
   "metadata": {},
   "outputs": [],
   "source": [
    "def scrap_imdb2(lista_pelis):\n",
    "    \n",
    "    scrapeo_imdb = []\n",
    "    pelis_noscrape = []\n",
    "    \n",
    "    url = 'https://www.imdb.com/'\n",
    "\n",
    "    PATH=ChromeDriverManager().install()   # instala el driver\n",
    "    driver=webdriver.Chrome(PATH)         # abre una pestaña de chrome\n",
    "    driver.get(url)\n",
    "    \n",
    "    \n",
    "    for peli in lista_pelis:\n",
    "        \n",
    "        try:\n",
    "        \n",
    "            datos_peli= [peli]\n",
    "            buscador=driver.find_element(By.XPATH, '//*[@id=\"suggestion-search\"]')\n",
    "            buscador.click()\n",
    "\n",
    "            buscador.send_keys(peli)\n",
    "            time.sleep(3)\n",
    "            buscador.send_keys(\"\\ue015\")\n",
    "            time.sleep(3)\n",
    "            buscador.send_keys(\"\\ue015\")\n",
    "            time.sleep(3)\n",
    "            buscador.send_keys(\"\\ue015\")\n",
    "            time.sleep(3)\n",
    "            buscador.send_keys(\"\\ue015\")\n",
    "            time.sleep(3)\n",
    "            buscador.send_keys(u'\\ue007')\n",
    "            time.sleep(3)\n",
    "\n",
    "            rating = driver.find_element(By.CSS_SELECTOR, '#__next > main > div > section.ipc-page-background.ipc-page-background--base.sc-9b716f3b-0.hWwhTB > section > div:nth-child(4) > section > section > div.sc-80d4314-0.fjPRnj > div.sc-db8c1937-0.eGmDjE.sc-80d4314-3.iBtAhY > div > div:nth-child(1) > a > div > div > div.sc-7ab21ed2-0.fAePGh > div.sc-7ab21ed2-2.kYEdvH > span.sc-7ab21ed2-1.jGRxWM')\n",
    "            datos_peli.append(rating.text)\n",
    "\n",
    "            foto = driver.find_element(By.CLASS_NAME, 'ipc-lockup-overlay.ipc-focusable')\n",
    "            foto_peli = foto.get_attribute('href')\n",
    "            datos_peli.append(foto_peli)\n",
    "\n",
    "            video = driver.find_element(By.CLASS_NAME, 'ipc-lockup-overlay.ipc-focusable')\n",
    "            video_trailer = video.get_attribute('href')\n",
    "            datos_peli.append(video_trailer)\n",
    "\n",
    "            tab_reparto = driver.find_element(By.CSS_SELECTOR, '#__next > main > div > section.ipc-page-background.ipc-page-background--base.sc-9b716f3b-0.hWwhTB > div > section > div > div.sc-b1d8602f-1.fuYOtZ.ipc-page-grid__item.ipc-page-grid__item--span-2 > section.ipc-page-section.ipc-page-section--base.sc-bfec09a1-0.bzDutS.title-cast.title-cast--movie.celwidget > div.ipc-shoveler.ipc-shoveler--base.ipc-shoveler--page0.title-cast__grid > div.ipc-sub-grid.ipc-sub-grid--page-span-2.ipc-sub-grid--wraps-at-above-l.ipc-shoveler__grid')\n",
    "            reparto = tab_reparto.find_elements(By.CLASS_NAME, 'sc-bfec09a1-7.iDmJtd')\n",
    "            #lista_reparto = [e.text.split('\\n').append(c) for c,e in enumarate(reparto)] (xq no funciona?)\n",
    "            \n",
    "            lista_reparto =[]\n",
    "            for c,e in enumerate(reparto):\n",
    "                x = e.text.split('\\n')\n",
    "                x.append(c)\n",
    "                lista_reparto.append(x)\n",
    "            \n",
    "            datos_peli.append(lista_reparto)\n",
    "            scrapeo_imdb.append(datos_peli)\n",
    "            \n",
    "        except:\n",
    "            \n",
    "            pelis_noscrape.append(peli)\n",
    "        \n",
    "    driver.close()\n",
    "        \n",
    "    return scrapeo_imdb, pelis_noscrape"
   ]
  },
  {
   "cell_type": "code",
   "execution_count": 88,
   "id": "ad22f7e1",
   "metadata": {},
   "outputs": [],
   "source": [
    "imdb2 = scrap_imdb2(titulos2)"
   ]
  },
  {
   "cell_type": "code",
   "execution_count": 102,
   "id": "39f98eee",
   "metadata": {},
   "outputs": [
    {
     "data": {
      "text/plain": [
       "[]"
      ]
     },
     "execution_count": 102,
     "metadata": {},
     "output_type": "execute_result"
    }
   ],
   "source": [
    "imdb2[1]"
   ]
  },
  {
   "cell_type": "code",
   "execution_count": 103,
   "id": "247b20c1",
   "metadata": {},
   "outputs": [],
   "source": [
    "info_imdb =imdb[0] + imdb2[0] "
   ]
  },
  {
   "cell_type": "code",
   "execution_count": 104,
   "id": "92499727",
   "metadata": {},
   "outputs": [],
   "source": [
    "cabeceras = ['peli', 'rating', 'link_imagen', 'link_trailer', 'cast' ]"
   ]
  },
  {
   "cell_type": "code",
   "execution_count": 105,
   "id": "d3e57900",
   "metadata": {},
   "outputs": [],
   "source": [
    "df=pd.DataFrame(info_imdb, columns=cabeceras)"
   ]
  },
  {
   "cell_type": "code",
   "execution_count": 106,
   "id": "3ab09bbf",
   "metadata": {},
   "outputs": [
    {
     "data": {
      "text/html": [
       "<div>\n",
       "<style scoped>\n",
       "    .dataframe tbody tr th:only-of-type {\n",
       "        vertical-align: middle;\n",
       "    }\n",
       "\n",
       "    .dataframe tbody tr th {\n",
       "        vertical-align: top;\n",
       "    }\n",
       "\n",
       "    .dataframe thead th {\n",
       "        text-align: right;\n",
       "    }\n",
       "</style>\n",
       "<table border=\"1\" class=\"dataframe\">\n",
       "  <thead>\n",
       "    <tr style=\"text-align: right;\">\n",
       "      <th></th>\n",
       "      <th>peli</th>\n",
       "      <th>rating</th>\n",
       "      <th>link_imagen</th>\n",
       "      <th>link_trailer</th>\n",
       "      <th>cast</th>\n",
       "    </tr>\n",
       "  </thead>\n",
       "  <tbody>\n",
       "    <tr>\n",
       "      <th>0</th>\n",
       "      <td>Iron Man</td>\n",
       "      <td>7,9</td>\n",
       "      <td>https://www.imdb.com/title/tt0371746/mediaview...</td>\n",
       "      <td>https://www.imdb.com/title/tt0371746/mediaview...</td>\n",
       "      <td>[[Robert Downey Jr., Tony Stark, 0], [Gwyneth ...</td>\n",
       "    </tr>\n",
       "    <tr>\n",
       "      <th>1</th>\n",
       "      <td>The Incredible Hulk</td>\n",
       "      <td>6,6</td>\n",
       "      <td>https://www.imdb.com/title/tt0800080/mediaview...</td>\n",
       "      <td>https://www.imdb.com/title/tt0800080/mediaview...</td>\n",
       "      <td>[[Edward Norton, Bruce Banner, 0], [Liv Tyler,...</td>\n",
       "    </tr>\n",
       "    <tr>\n",
       "      <th>2</th>\n",
       "      <td>Iron Man 2</td>\n",
       "      <td>6,9</td>\n",
       "      <td>https://www.imdb.com/title/tt1228705/mediaview...</td>\n",
       "      <td>https://www.imdb.com/title/tt1228705/mediaview...</td>\n",
       "      <td>[[Robert Downey Jr., Tony Stark, 0], [Mickey R...</td>\n",
       "    </tr>\n",
       "    <tr>\n",
       "      <th>3</th>\n",
       "      <td>Captain America: The First Avenger</td>\n",
       "      <td>6,9</td>\n",
       "      <td>https://www.imdb.com/title/tt0458339/mediaview...</td>\n",
       "      <td>https://www.imdb.com/title/tt0458339/mediaview...</td>\n",
       "      <td>[[Chris Evans, Captain America…, 0], [Hugo Wea...</td>\n",
       "    </tr>\n",
       "    <tr>\n",
       "      <th>4</th>\n",
       "      <td>The Avengers</td>\n",
       "      <td>8,0</td>\n",
       "      <td>https://www.imdb.com/title/tt0848228/mediaview...</td>\n",
       "      <td>https://www.imdb.com/title/tt0848228/mediaview...</td>\n",
       "      <td>[[Robert Downey Jr., Tony Stark…, 0], [Chris E...</td>\n",
       "    </tr>\n",
       "  </tbody>\n",
       "</table>\n",
       "</div>"
      ],
      "text/plain": [
       "                                 peli rating  \\\n",
       "0                            Iron Man    7,9   \n",
       "1                 The Incredible Hulk    6,6   \n",
       "2                          Iron Man 2    6,9   \n",
       "3  Captain America: The First Avenger    6,9   \n",
       "4                        The Avengers    8,0   \n",
       "\n",
       "                                         link_imagen  \\\n",
       "0  https://www.imdb.com/title/tt0371746/mediaview...   \n",
       "1  https://www.imdb.com/title/tt0800080/mediaview...   \n",
       "2  https://www.imdb.com/title/tt1228705/mediaview...   \n",
       "3  https://www.imdb.com/title/tt0458339/mediaview...   \n",
       "4  https://www.imdb.com/title/tt0848228/mediaview...   \n",
       "\n",
       "                                        link_trailer  \\\n",
       "0  https://www.imdb.com/title/tt0371746/mediaview...   \n",
       "1  https://www.imdb.com/title/tt0800080/mediaview...   \n",
       "2  https://www.imdb.com/title/tt1228705/mediaview...   \n",
       "3  https://www.imdb.com/title/tt0458339/mediaview...   \n",
       "4  https://www.imdb.com/title/tt0848228/mediaview...   \n",
       "\n",
       "                                                cast  \n",
       "0  [[Robert Downey Jr., Tony Stark, 0], [Gwyneth ...  \n",
       "1  [[Edward Norton, Bruce Banner, 0], [Liv Tyler,...  \n",
       "2  [[Robert Downey Jr., Tony Stark, 0], [Mickey R...  \n",
       "3  [[Chris Evans, Captain America…, 0], [Hugo Wea...  \n",
       "4  [[Robert Downey Jr., Tony Stark…, 0], [Chris E...  "
      ]
     },
     "execution_count": 106,
     "metadata": {},
     "output_type": "execute_result"
    }
   ],
   "source": [
    "df.head()"
   ]
  },
  {
   "cell_type": "code",
   "execution_count": 107,
   "id": "5db7d9fe",
   "metadata": {},
   "outputs": [],
   "source": [
    "dcast = df[['peli', 'cast']]"
   ]
  },
  {
   "cell_type": "code",
   "execution_count": 108,
   "id": "aceb833e",
   "metadata": {},
   "outputs": [],
   "source": [
    "dcast = dcast.explode('cast')"
   ]
  },
  {
   "cell_type": "code",
   "execution_count": 109,
   "id": "e8f44090",
   "metadata": {},
   "outputs": [],
   "source": [
    "dcast['actor'] =  dcast['cast'].apply(lambda x: x[0])"
   ]
  },
  {
   "cell_type": "code",
   "execution_count": 110,
   "id": "f0b12835",
   "metadata": {},
   "outputs": [],
   "source": [
    "dcast['personaje'] =  dcast['cast'].apply(lambda x: x[1])"
   ]
  },
  {
   "cell_type": "code",
   "execution_count": 111,
   "id": "3c81d30c",
   "metadata": {},
   "outputs": [],
   "source": [
    "dcast['orden'] =  dcast['cast'].apply(lambda x: x[2])"
   ]
  },
  {
   "cell_type": "code",
   "execution_count": 112,
   "id": "4e3d8550",
   "metadata": {},
   "outputs": [
    {
     "data": {
      "text/html": [
       "<div>\n",
       "<style scoped>\n",
       "    .dataframe tbody tr th:only-of-type {\n",
       "        vertical-align: middle;\n",
       "    }\n",
       "\n",
       "    .dataframe tbody tr th {\n",
       "        vertical-align: top;\n",
       "    }\n",
       "\n",
       "    .dataframe thead th {\n",
       "        text-align: right;\n",
       "    }\n",
       "</style>\n",
       "<table border=\"1\" class=\"dataframe\">\n",
       "  <thead>\n",
       "    <tr style=\"text-align: right;\">\n",
       "      <th></th>\n",
       "      <th>peli</th>\n",
       "      <th>cast</th>\n",
       "      <th>actor</th>\n",
       "      <th>personaje</th>\n",
       "      <th>orden</th>\n",
       "    </tr>\n",
       "  </thead>\n",
       "  <tbody>\n",
       "    <tr>\n",
       "      <th>0</th>\n",
       "      <td>Iron Man</td>\n",
       "      <td>[Robert Downey Jr., Tony Stark, 0]</td>\n",
       "      <td>Robert Downey Jr.</td>\n",
       "      <td>Tony Stark</td>\n",
       "      <td>0</td>\n",
       "    </tr>\n",
       "    <tr>\n",
       "      <th>0</th>\n",
       "      <td>Iron Man</td>\n",
       "      <td>[Gwyneth Paltrow, Pepper Potts, 1]</td>\n",
       "      <td>Gwyneth Paltrow</td>\n",
       "      <td>Pepper Potts</td>\n",
       "      <td>1</td>\n",
       "    </tr>\n",
       "    <tr>\n",
       "      <th>0</th>\n",
       "      <td>Iron Man</td>\n",
       "      <td>[Terrence Howard, Rhodey, 2]</td>\n",
       "      <td>Terrence Howard</td>\n",
       "      <td>Rhodey</td>\n",
       "      <td>2</td>\n",
       "    </tr>\n",
       "    <tr>\n",
       "      <th>0</th>\n",
       "      <td>Iron Man</td>\n",
       "      <td>[Jeff Bridges, Obadiah Stane, 3]</td>\n",
       "      <td>Jeff Bridges</td>\n",
       "      <td>Obadiah Stane</td>\n",
       "      <td>3</td>\n",
       "    </tr>\n",
       "    <tr>\n",
       "      <th>0</th>\n",
       "      <td>Iron Man</td>\n",
       "      <td>[Leslie Bibb, Christine Everhart, 4]</td>\n",
       "      <td>Leslie Bibb</td>\n",
       "      <td>Christine Everhart</td>\n",
       "      <td>4</td>\n",
       "    </tr>\n",
       "  </tbody>\n",
       "</table>\n",
       "</div>"
      ],
      "text/plain": [
       "       peli                                  cast              actor  \\\n",
       "0  Iron Man    [Robert Downey Jr., Tony Stark, 0]  Robert Downey Jr.   \n",
       "0  Iron Man    [Gwyneth Paltrow, Pepper Potts, 1]    Gwyneth Paltrow   \n",
       "0  Iron Man          [Terrence Howard, Rhodey, 2]    Terrence Howard   \n",
       "0  Iron Man      [Jeff Bridges, Obadiah Stane, 3]       Jeff Bridges   \n",
       "0  Iron Man  [Leslie Bibb, Christine Everhart, 4]        Leslie Bibb   \n",
       "\n",
       "            personaje  orden  \n",
       "0          Tony Stark      0  \n",
       "0        Pepper Potts      1  \n",
       "0              Rhodey      2  \n",
       "0       Obadiah Stane      3  \n",
       "0  Christine Everhart      4  "
      ]
     },
     "execution_count": 112,
     "metadata": {},
     "output_type": "execute_result"
    }
   ],
   "source": [
    "dcast.head()"
   ]
  },
  {
   "cell_type": "code",
   "execution_count": 113,
   "id": "013834c9",
   "metadata": {},
   "outputs": [],
   "source": [
    "dcast.to_csv('../data/cast.csv', index = True)"
   ]
  },
  {
   "cell_type": "code",
   "execution_count": 114,
   "id": "aab98113",
   "metadata": {},
   "outputs": [
    {
     "data": {
      "text/plain": [
       "Index(['peli', 'rating', 'link_imagen', 'link_trailer', 'cast'], dtype='object')"
      ]
     },
     "execution_count": 114,
     "metadata": {},
     "output_type": "execute_result"
    }
   ],
   "source": [
    "columnas = df.columns\n",
    "columnas"
   ]
  },
  {
   "cell_type": "code",
   "execution_count": 115,
   "id": "229a57ca",
   "metadata": {},
   "outputs": [],
   "source": [
    "df = df[columnas[:-1]]"
   ]
  },
  {
   "cell_type": "code",
   "execution_count": 116,
   "id": "ba7ab219",
   "metadata": {},
   "outputs": [],
   "source": [
    "df.to_csv('../data/imdb.csv', index = False)"
   ]
  },
  {
   "cell_type": "code",
   "execution_count": null,
   "id": "9231e502",
   "metadata": {},
   "outputs": [],
   "source": []
  }
 ],
 "metadata": {
  "kernelspec": {
   "display_name": "Python 3 (ipykernel)",
   "language": "python",
   "name": "python3"
  },
  "language_info": {
   "codemirror_mode": {
    "name": "ipython",
    "version": 3
   },
   "file_extension": ".py",
   "mimetype": "text/x-python",
   "name": "python",
   "nbconvert_exporter": "python",
   "pygments_lexer": "ipython3",
   "version": "3.9.12"
  }
 },
 "nbformat": 4,
 "nbformat_minor": 5
}
